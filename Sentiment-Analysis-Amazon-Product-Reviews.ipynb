{
 "cells": [
  {
   "cell_type": "code",
   "execution_count": 27,
   "id": "caaa2e64",
   "metadata": {},
   "outputs": [],
   "source": [
    "import pandas as pd\n",
    "import numpy as np\n",
    "import matplotlib.pyplot as plt\n",
    "import seaborn as sns\n",
    "%matplotlib inline"
   ]
  },
  {
   "cell_type": "code",
   "execution_count": 28,
   "id": "43a8f580",
   "metadata": {},
   "outputs": [],
   "source": [
    "amazonData = pd.read_csv('Amazon_Unlocked_Mobile.csv')"
   ]
  },
  {
   "cell_type": "code",
   "execution_count": 29,
   "id": "9e26ec2a",
   "metadata": {},
   "outputs": [],
   "source": [
    "# 1 - positive\n",
    "# 0 - negative"
   ]
  },
  {
   "cell_type": "code",
   "execution_count": 30,
   "id": "7e88b782",
   "metadata": {},
   "outputs": [
    {
     "data": {
      "text/plain": [
       "(413840, 6)"
      ]
     },
     "execution_count": 30,
     "metadata": {},
     "output_type": "execute_result"
    }
   ],
   "source": [
    "amazonData.shape"
   ]
  },
  {
   "cell_type": "code",
   "execution_count": 31,
   "id": "2828065d",
   "metadata": {},
   "outputs": [],
   "source": [
    "amazonData = amazonData.dropna(axis=0)"
   ]
  },
  {
   "cell_type": "code",
   "execution_count": 32,
   "id": "4dbbb014",
   "metadata": {},
   "outputs": [
    {
     "data": {
      "text/plain": [
       "(334335, 6)"
      ]
     },
     "execution_count": 32,
     "metadata": {},
     "output_type": "execute_result"
    }
   ],
   "source": [
    "amazonData.shape"
   ]
  },
  {
   "cell_type": "code",
   "execution_count": 33,
   "id": "e67a5221",
   "metadata": {},
   "outputs": [],
   "source": [
    "amazonData = amazonData[[\"Reviews\",\"Rating\"]]"
   ]
  },
  {
   "cell_type": "code",
   "execution_count": 34,
   "id": "d464b727",
   "metadata": {},
   "outputs": [
    {
     "data": {
      "text/html": [
       "<div>\n",
       "<style scoped>\n",
       "    .dataframe tbody tr th:only-of-type {\n",
       "        vertical-align: middle;\n",
       "    }\n",
       "\n",
       "    .dataframe tbody tr th {\n",
       "        vertical-align: top;\n",
       "    }\n",
       "\n",
       "    .dataframe thead th {\n",
       "        text-align: right;\n",
       "    }\n",
       "</style>\n",
       "<table border=\"1\" class=\"dataframe\">\n",
       "  <thead>\n",
       "    <tr style=\"text-align: right;\">\n",
       "      <th></th>\n",
       "      <th>Reviews</th>\n",
       "      <th>Rating</th>\n",
       "    </tr>\n",
       "  </thead>\n",
       "  <tbody>\n",
       "    <tr>\n",
       "      <th>0</th>\n",
       "      <td>I feel so LUCKY to have found this used (phone...</td>\n",
       "      <td>5</td>\n",
       "    </tr>\n",
       "    <tr>\n",
       "      <th>1</th>\n",
       "      <td>nice phone, nice up grade from my pantach revu...</td>\n",
       "      <td>4</td>\n",
       "    </tr>\n",
       "    <tr>\n",
       "      <th>2</th>\n",
       "      <td>Very pleased</td>\n",
       "      <td>5</td>\n",
       "    </tr>\n",
       "    <tr>\n",
       "      <th>3</th>\n",
       "      <td>It works good but it goes slow sometimes but i...</td>\n",
       "      <td>4</td>\n",
       "    </tr>\n",
       "    <tr>\n",
       "      <th>4</th>\n",
       "      <td>Great phone to replace my lost phone. The only...</td>\n",
       "      <td>4</td>\n",
       "    </tr>\n",
       "  </tbody>\n",
       "</table>\n",
       "</div>"
      ],
      "text/plain": [
       "                                             Reviews  Rating\n",
       "0  I feel so LUCKY to have found this used (phone...       5\n",
       "1  nice phone, nice up grade from my pantach revu...       4\n",
       "2                                       Very pleased       5\n",
       "3  It works good but it goes slow sometimes but i...       4\n",
       "4  Great phone to replace my lost phone. The only...       4"
      ]
     },
     "execution_count": 34,
     "metadata": {},
     "output_type": "execute_result"
    }
   ],
   "source": [
    "amazonData.head()"
   ]
  },
  {
   "cell_type": "code",
   "execution_count": 35,
   "id": "ba2648d8",
   "metadata": {},
   "outputs": [],
   "source": [
    "amazonDataPositiveDf = amazonData[amazonData[\"Rating\"].isin([4,5])]"
   ]
  },
  {
   "cell_type": "code",
   "execution_count": 36,
   "id": "90b4a650",
   "metadata": {},
   "outputs": [],
   "source": [
    "amazonDataPositive5 = amazonData[amazonData[\"Rating\"] == 5]"
   ]
  },
  {
   "cell_type": "code",
   "execution_count": 38,
   "id": "a03717b9",
   "metadata": {},
   "outputs": [
    {
     "name": "stdout",
     "output_type": "stream",
     "text": [
      "Shape 4: (50421, 2)\n"
     ]
    },
    {
     "data": {
      "text/html": [
       "<div>\n",
       "<style scoped>\n",
       "    .dataframe tbody tr th:only-of-type {\n",
       "        vertical-align: middle;\n",
       "    }\n",
       "\n",
       "    .dataframe tbody tr th {\n",
       "        vertical-align: top;\n",
       "    }\n",
       "\n",
       "    .dataframe thead th {\n",
       "        text-align: right;\n",
       "    }\n",
       "</style>\n",
       "<table border=\"1\" class=\"dataframe\">\n",
       "  <thead>\n",
       "    <tr style=\"text-align: right;\">\n",
       "      <th></th>\n",
       "      <th>Reviews</th>\n",
       "      <th>Rating</th>\n",
       "    </tr>\n",
       "  </thead>\n",
       "  <tbody>\n",
       "    <tr>\n",
       "      <th>1</th>\n",
       "      <td>nice phone, nice up grade from my pantach revu...</td>\n",
       "      <td>4</td>\n",
       "    </tr>\n",
       "    <tr>\n",
       "      <th>3</th>\n",
       "      <td>It works good but it goes slow sometimes but i...</td>\n",
       "      <td>4</td>\n",
       "    </tr>\n",
       "    <tr>\n",
       "      <th>4</th>\n",
       "      <td>Great phone to replace my lost phone. The only...</td>\n",
       "      <td>4</td>\n",
       "    </tr>\n",
       "    <tr>\n",
       "      <th>18</th>\n",
       "      <td>I love the phone. It does everything I need an...</td>\n",
       "      <td>4</td>\n",
       "    </tr>\n",
       "    <tr>\n",
       "      <th>20</th>\n",
       "      <td>The battery was old &amp; had been over used becau...</td>\n",
       "      <td>4</td>\n",
       "    </tr>\n",
       "  </tbody>\n",
       "</table>\n",
       "</div>"
      ],
      "text/plain": [
       "                                              Reviews  Rating\n",
       "1   nice phone, nice up grade from my pantach revu...       4\n",
       "3   It works good but it goes slow sometimes but i...       4\n",
       "4   Great phone to replace my lost phone. The only...       4\n",
       "18  I love the phone. It does everything I need an...       4\n",
       "20  The battery was old & had been over used becau...       4"
      ]
     },
     "execution_count": 38,
     "metadata": {},
     "output_type": "execute_result"
    }
   ],
   "source": [
    "amazonDataPositive4 = amazonData[amazonData[\"Rating\"] == 4]\n",
    "print('Shape 4:', amazonDataPositive4.shape)\n",
    "amazonDataPositive4.head()"
   ]
  },
  {
   "cell_type": "code",
   "execution_count": 39,
   "id": "c58acdc4",
   "metadata": {},
   "outputs": [
    {
     "data": {
      "text/plain": [
       "(180253, 2)"
      ]
     },
     "execution_count": 39,
     "metadata": {},
     "output_type": "execute_result"
    }
   ],
   "source": [
    "amazonDataPositive5.shape"
   ]
  },
  {
   "cell_type": "code",
   "execution_count": 40,
   "id": "8039241d",
   "metadata": {},
   "outputs": [],
   "source": [
    "amazonDataPositive = pd.concat([amazonDataPositive4[:5000], amazonDataPositive5[:10000]])"
   ]
  },
  {
   "cell_type": "code",
   "execution_count": 41,
   "id": "8099ea0d",
   "metadata": {},
   "outputs": [
    {
     "data": {
      "text/html": [
       "<div>\n",
       "<style scoped>\n",
       "    .dataframe tbody tr th:only-of-type {\n",
       "        vertical-align: middle;\n",
       "    }\n",
       "\n",
       "    .dataframe tbody tr th {\n",
       "        vertical-align: top;\n",
       "    }\n",
       "\n",
       "    .dataframe thead th {\n",
       "        text-align: right;\n",
       "    }\n",
       "</style>\n",
       "<table border=\"1\" class=\"dataframe\">\n",
       "  <thead>\n",
       "    <tr style=\"text-align: right;\">\n",
       "      <th></th>\n",
       "      <th>Reviews</th>\n",
       "      <th>Rating</th>\n",
       "    </tr>\n",
       "  </thead>\n",
       "  <tbody>\n",
       "    <tr>\n",
       "      <th>27235</th>\n",
       "      <td>great</td>\n",
       "      <td>5</td>\n",
       "    </tr>\n",
       "    <tr>\n",
       "      <th>27236</th>\n",
       "      <td>Worked great thanks Amazon</td>\n",
       "      <td>5</td>\n",
       "    </tr>\n",
       "    <tr>\n",
       "      <th>27237</th>\n",
       "      <td>Thanks</td>\n",
       "      <td>5</td>\n",
       "    </tr>\n",
       "    <tr>\n",
       "      <th>27239</th>\n",
       "      <td>The phone arrived on time,I'm happy with the p...</td>\n",
       "      <td>5</td>\n",
       "    </tr>\n",
       "    <tr>\n",
       "      <th>27240</th>\n",
       "      <td>Meet my expectations!</td>\n",
       "      <td>5</td>\n",
       "    </tr>\n",
       "  </tbody>\n",
       "</table>\n",
       "</div>"
      ],
      "text/plain": [
       "                                                 Reviews  Rating\n",
       "27235                                              great       5\n",
       "27236                         Worked great thanks Amazon       5\n",
       "27237                                             Thanks       5\n",
       "27239  The phone arrived on time,I'm happy with the p...       5\n",
       "27240                              Meet my expectations!       5"
      ]
     },
     "execution_count": 41,
     "metadata": {},
     "output_type": "execute_result"
    }
   ],
   "source": [
    "amazonDataPositive.tail()"
   ]
  },
  {
   "cell_type": "code",
   "execution_count": 42,
   "id": "919d5ac2",
   "metadata": {},
   "outputs": [
    {
     "data": {
      "text/plain": [
       "(15000, 2)"
      ]
     },
     "execution_count": 42,
     "metadata": {},
     "output_type": "execute_result"
    }
   ],
   "source": [
    "amazonDataPositive.shape"
   ]
  },
  {
   "cell_type": "code",
   "execution_count": 43,
   "id": "f9ecc071",
   "metadata": {},
   "outputs": [],
   "source": [
    "amazonDataNegative = amazonData[amazonData[\"Rating\"].isin([1,2])]"
   ]
  },
  {
   "cell_type": "code",
   "execution_count": 44,
   "id": "e7562e9a",
   "metadata": {},
   "outputs": [
    {
     "data": {
      "text/plain": [
       "(77603, 2)"
      ]
     },
     "execution_count": 44,
     "metadata": {},
     "output_type": "execute_result"
    }
   ],
   "source": [
    "amazonDataNegative.shape"
   ]
  },
  {
   "cell_type": "code",
   "execution_count": 45,
   "id": "4fab82a5",
   "metadata": {},
   "outputs": [
    {
     "data": {
      "text/html": [
       "<div>\n",
       "<style scoped>\n",
       "    .dataframe tbody tr th:only-of-type {\n",
       "        vertical-align: middle;\n",
       "    }\n",
       "\n",
       "    .dataframe tbody tr th {\n",
       "        vertical-align: top;\n",
       "    }\n",
       "\n",
       "    .dataframe thead th {\n",
       "        text-align: right;\n",
       "    }\n",
       "</style>\n",
       "<table border=\"1\" class=\"dataframe\">\n",
       "  <thead>\n",
       "    <tr style=\"text-align: right;\">\n",
       "      <th></th>\n",
       "      <th>Reviews</th>\n",
       "      <th>Rating</th>\n",
       "    </tr>\n",
       "  </thead>\n",
       "  <tbody>\n",
       "    <tr>\n",
       "      <th>5</th>\n",
       "      <td>I already had a phone with problems... I know ...</td>\n",
       "      <td>1</td>\n",
       "    </tr>\n",
       "    <tr>\n",
       "      <th>6</th>\n",
       "      <td>The charging port was loose. I got that solder...</td>\n",
       "      <td>2</td>\n",
       "    </tr>\n",
       "    <tr>\n",
       "      <th>7</th>\n",
       "      <td>Phone looks good but wouldn't stay charged, ha...</td>\n",
       "      <td>2</td>\n",
       "    </tr>\n",
       "    <tr>\n",
       "      <th>13</th>\n",
       "      <td>I'm really disappointed about my phone and ser...</td>\n",
       "      <td>1</td>\n",
       "    </tr>\n",
       "    <tr>\n",
       "      <th>15</th>\n",
       "      <td>Had this phone before and loved it but was not...</td>\n",
       "      <td>2</td>\n",
       "    </tr>\n",
       "  </tbody>\n",
       "</table>\n",
       "</div>"
      ],
      "text/plain": [
       "                                              Reviews  Rating\n",
       "5   I already had a phone with problems... I know ...       1\n",
       "6   The charging port was loose. I got that solder...       2\n",
       "7   Phone looks good but wouldn't stay charged, ha...       2\n",
       "13  I'm really disappointed about my phone and ser...       1\n",
       "15  Had this phone before and loved it but was not...       2"
      ]
     },
     "execution_count": 45,
     "metadata": {},
     "output_type": "execute_result"
    }
   ],
   "source": [
    "amazonDataNegative.head()"
   ]
  },
  {
   "cell_type": "code",
   "execution_count": 46,
   "id": "81f0dda2",
   "metadata": {},
   "outputs": [
    {
     "data": {
      "text/plain": [
       "5    180253\n",
       "1     57535\n",
       "4     50421\n",
       "3     26058\n",
       "2     20068\n",
       "Name: Rating, dtype: int64"
      ]
     },
     "execution_count": 46,
     "metadata": {},
     "output_type": "execute_result"
    }
   ],
   "source": [
    "amazonData[\"Rating\"].value_counts()"
   ]
  },
  {
   "cell_type": "code",
   "execution_count": 19,
   "id": "c78f220c",
   "metadata": {},
   "outputs": [
    {
     "data": {
      "text/plain": [
       "<AxesSubplot:>"
      ]
     },
     "execution_count": 19,
     "metadata": {},
     "output_type": "execute_result"
    },
    {
     "data": {
      "image/png": "[encoded data removed]",
      "text/plain": [
       "<Figure size 432x288 with 1 Axes>"
      ]
     },
     "metadata": {
      "needs_background": "light"
     },
     "output_type": "display_data"
    }
   ],
   "source": [
    "sns.barplot(x=amazonData.Rating.value_counts().index, y=amazonData.Rating.value_counts().values)"
   ]
  },
  {
   "cell_type": "code",
   "execution_count": 20,
   "id": "8788e199",
   "metadata": {},
   "outputs": [],
   "source": [
    "amazonDataFiltered = pd.concat([amazonDataPositive, amazonDataNegative[:15000]])"
   ]
  },
  {
   "cell_type": "code",
   "execution_count": 47,
   "id": "55d64c89",
   "metadata": {},
   "outputs": [
    {
     "data": {
      "text/plain": [
       "\"As good as you can hope for in a phone for seniors. Reminiscent of a cordless house phone -- makes it easy to use for an 84-year-old. Buttons light up bright, ringtone volume is adjustable and on max it's more than loud enough for anyone with a hearing problem; though surprisingly the call volume is not adjustable, though it is louder than the previous Verizon flip phone on max volume. I set this up with Cricket service. The phone takes a MINI SIM CARD. Not a micro as someone else has stated. I had to buy another sim card because the micro I ordered was too small. Mini sims are the original, large cards. We live in the US. I don't know people are claiming this phone doesn't work in the US. I paid 30ish for this phone, but would have paid up to 100 for it because of the design and functionality. Side note: I was concerned that my grandmother would always accidentally hit the SOS button this phone has, but it can be disabled in the settings.\""
      ]
     },
     "execution_count": 47,
     "metadata": {},
     "output_type": "execute_result"
    }
   ],
   "source": [
    "amazonDataFiltered[\"Reviews\"][200]"
   ]
  },
  {
   "cell_type": "code",
   "execution_count": 48,
   "id": "eac85483",
   "metadata": {},
   "outputs": [
    {
     "data": {
      "text/plain": [
       "(30000, 3)"
      ]
     },
     "execution_count": 48,
     "metadata": {},
     "output_type": "execute_result"
    }
   ],
   "source": [
    "amazonDataFiltered.shape"
   ]
  },
  {
   "cell_type": "code",
   "execution_count": 49,
   "id": "7a1a7eea",
   "metadata": {},
   "outputs": [
    {
     "data": {
      "text/plain": [
       "<AxesSubplot:>"
      ]
     },
     "execution_count": 49,
     "metadata": {},
     "output_type": "execute_result"
    },
    {
     "data": {
      "image/png": "[encoded data removed]",
      "text/plain": [
       "<Figure size 432x288 with 1 Axes>"
      ]
     },
     "metadata": {
      "needs_background": "light"
     },
     "output_type": "display_data"
    }
   ],
   "source": [
    "sns.barplot(x=amazonDataFiltered.Rating.value_counts().index, y=amazonDataFiltered.Rating.value_counts().values)"
   ]
  },
  {
   "cell_type": "code",
   "execution_count": 50,
   "id": "21d88f67",
   "metadata": {},
   "outputs": [
    {
     "name": "stderr",
     "output_type": "stream",
     "text": [
      "C:\\Users\\Admin\\AppData\\Local\\Temp/ipykernel_12464/131122136.py:2: SettingWithCopyWarning: \n",
      "A value is trying to be set on a copy of a slice from a DataFrame\n",
      "\n",
      "See the caveats in the documentation: https://pandas.pydata.org/pandas-docs/stable/user_guide/indexing.html#returning-a-view-versus-a-copy\n",
      "  amazonDataFiltered[\"Sentiment\"][amazonDataFiltered[\"Rating\"].isin([1,2])]= \"Negative\"\n"
     ]
    }
   ],
   "source": [
    "amazonDataFiltered[\"Sentiment\"] = \"Positive\"\n",
    "amazonDataFiltered[\"Sentiment\"][amazonDataFiltered[\"Rating\"].isin([1,2])]= \"Negative\""
   ]
  },
  {
   "cell_type": "code",
   "execution_count": 51,
   "id": "137286e7",
   "metadata": {},
   "outputs": [
    {
     "data": {
      "text/html": [
       "<div>\n",
       "<style scoped>\n",
       "    .dataframe tbody tr th:only-of-type {\n",
       "        vertical-align: middle;\n",
       "    }\n",
       "\n",
       "    .dataframe tbody tr th {\n",
       "        vertical-align: top;\n",
       "    }\n",
       "\n",
       "    .dataframe thead th {\n",
       "        text-align: right;\n",
       "    }\n",
       "</style>\n",
       "<table border=\"1\" class=\"dataframe\">\n",
       "  <thead>\n",
       "    <tr style=\"text-align: right;\">\n",
       "      <th></th>\n",
       "      <th>Reviews</th>\n",
       "      <th>Rating</th>\n",
       "      <th>Sentiment</th>\n",
       "    </tr>\n",
       "  </thead>\n",
       "  <tbody>\n",
       "    <tr>\n",
       "      <th>1</th>\n",
       "      <td>nice phone, nice up grade from my pantach revu...</td>\n",
       "      <td>4</td>\n",
       "      <td>Positive</td>\n",
       "    </tr>\n",
       "    <tr>\n",
       "      <th>3</th>\n",
       "      <td>It works good but it goes slow sometimes but i...</td>\n",
       "      <td>4</td>\n",
       "      <td>Positive</td>\n",
       "    </tr>\n",
       "    <tr>\n",
       "      <th>4</th>\n",
       "      <td>Great phone to replace my lost phone. The only...</td>\n",
       "      <td>4</td>\n",
       "      <td>Positive</td>\n",
       "    </tr>\n",
       "    <tr>\n",
       "      <th>18</th>\n",
       "      <td>I love the phone. It does everything I need an...</td>\n",
       "      <td>4</td>\n",
       "      <td>Positive</td>\n",
       "    </tr>\n",
       "    <tr>\n",
       "      <th>20</th>\n",
       "      <td>The battery was old &amp; had been over used becau...</td>\n",
       "      <td>4</td>\n",
       "      <td>Positive</td>\n",
       "    </tr>\n",
       "  </tbody>\n",
       "</table>\n",
       "</div>"
      ],
      "text/plain": [
       "                                              Reviews  Rating Sentiment\n",
       "1   nice phone, nice up grade from my pantach revu...       4  Positive\n",
       "3   It works good but it goes slow sometimes but i...       4  Positive\n",
       "4   Great phone to replace my lost phone. The only...       4  Positive\n",
       "18  I love the phone. It does everything I need an...       4  Positive\n",
       "20  The battery was old & had been over used becau...       4  Positive"
      ]
     },
     "execution_count": 51,
     "metadata": {},
     "output_type": "execute_result"
    }
   ],
   "source": [
    "amazonDataFiltered.head()"
   ]
  },
  {
   "cell_type": "code",
   "execution_count": 52,
   "id": "115b536d",
   "metadata": {},
   "outputs": [
    {
     "data": {
      "text/html": [
       "<div>\n",
       "<style scoped>\n",
       "    .dataframe tbody tr th:only-of-type {\n",
       "        vertical-align: middle;\n",
       "    }\n",
       "\n",
       "    .dataframe tbody tr th {\n",
       "        vertical-align: top;\n",
       "    }\n",
       "\n",
       "    .dataframe thead th {\n",
       "        text-align: right;\n",
       "    }\n",
       "</style>\n",
       "<table border=\"1\" class=\"dataframe\">\n",
       "  <thead>\n",
       "    <tr style=\"text-align: right;\">\n",
       "      <th></th>\n",
       "      <th>Reviews</th>\n",
       "      <th>Rating</th>\n",
       "      <th>Sentiment</th>\n",
       "    </tr>\n",
       "  </thead>\n",
       "  <tbody>\n",
       "    <tr>\n",
       "      <th>87471</th>\n",
       "      <td>Este equipo no levanta pin en Venezuela, lo he...</td>\n",
       "      <td>1</td>\n",
       "      <td>Negative</td>\n",
       "    </tr>\n",
       "    <tr>\n",
       "      <th>87472</th>\n",
       "      <td>I am truly disappointed not even by the phone ...</td>\n",
       "      <td>1</td>\n",
       "      <td>Negative</td>\n",
       "    </tr>\n",
       "    <tr>\n",
       "      <th>87473</th>\n",
       "      <td>This phone worked only for a month, the batter...</td>\n",
       "      <td>1</td>\n",
       "      <td>Negative</td>\n",
       "    </tr>\n",
       "    <tr>\n",
       "      <th>87477</th>\n",
       "      <td>EL PRODUCTO (BLACKBERRY BOLD 9000) NO ME LLEGO...</td>\n",
       "      <td>1</td>\n",
       "      <td>Negative</td>\n",
       "    </tr>\n",
       "    <tr>\n",
       "      <th>87479</th>\n",
       "      <td>I bought the BlackBerry Bold 9000 in spite of ...</td>\n",
       "      <td>2</td>\n",
       "      <td>Negative</td>\n",
       "    </tr>\n",
       "  </tbody>\n",
       "</table>\n",
       "</div>"
      ],
      "text/plain": [
       "                                                 Reviews  Rating Sentiment\n",
       "87471  Este equipo no levanta pin en Venezuela, lo he...       1  Negative\n",
       "87472  I am truly disappointed not even by the phone ...       1  Negative\n",
       "87473  This phone worked only for a month, the batter...       1  Negative\n",
       "87477  EL PRODUCTO (BLACKBERRY BOLD 9000) NO ME LLEGO...       1  Negative\n",
       "87479  I bought the BlackBerry Bold 9000 in spite of ...       2  Negative"
      ]
     },
     "execution_count": 52,
     "metadata": {},
     "output_type": "execute_result"
    }
   ],
   "source": [
    "amazonDataFiltered.tail()"
   ]
  },
  {
   "cell_type": "code",
   "execution_count": 53,
   "id": "47defb48",
   "metadata": {},
   "outputs": [],
   "source": [
    "import nltk\n",
    "import re\n",
    "from nltk.corpus import stopwords\n",
    "from nltk.tokenize import ToktokTokenizer\n",
    "from nltk.stem.porter import PorterStemmer\n",
    "from nltk.stem import WordNetLemmatizer\n",
    "\n",
    "def lower_case(text):\n",
    "    return text.lower()\n",
    "def remove_square_brackets(text):\n",
    "    return re.sub('\\[[^]]*\\]', '', text)\n",
    "def remove_username(text):\n",
    "    return re.sub('@[^\\s]+','',text)\n",
    "def remove_urls(text):\n",
    "    return re.sub(r\"((http\\S+)|(www\\.))\",'',text)\n",
    "def remove_special_characters(text):\n",
    "    pattern = r'[^a-zA-Z\\s]'\n",
    "    text = re.sub(pattern,'',text)\n",
    "    return text\n",
    "def remove_single_char(text):\n",
    "    return re.sub(r'\\b[a-zA-Z]\\b','',text)\n",
    "def remove_multiple(text):\n",
    "    return re.sub(\"(.)\\\\1{2,}\",\"\\\\1\",text)\n",
    "tokenizer = ToktokTokenizer()\n",
    "stopword_list=nltk.corpus.stopwords.words('english')\n",
    "def remove_stopwords(text):\n",
    "    tokens = tokenizer.tokenize(text)\n",
    "    tokens = [token.strip() for token in tokens]\n",
    "    tokens = [token.lower() for token in tokens]\n",
    "    filtered_tokens = [token for token in tokens if token not in stopword_list]\n",
    "    filtered_tokens = ' '.join(filtered_tokens)\n",
    "    return filtered_tokens"
   ]
  },
  {
   "cell_type": "code",
   "execution_count": 28,
   "id": "9040a8ca",
   "metadata": {
    "collapsed": true
   },
   "outputs": [
    {
     "name": "stdout",
     "output_type": "stream",
     "text": [
      "['i', 'me', 'my', 'myself', 'we', 'our', 'ours', 'ourselves', 'you', \"you're\", \"you've\", \"you'll\", \"you'd\", 'your', 'yours', 'yourself', 'yourselves', 'he', 'him', 'his', 'himself', 'she', \"she's\", 'her', 'hers', 'herself', 'it', \"it's\", 'its', 'itself', 'they', 'them', 'their', 'theirs', 'themselves', 'what', 'which', 'who', 'whom', 'this', 'that', \"that'll\", 'these', 'those', 'am', 'is', 'are', 'was', 'were', 'be', 'been', 'being', 'have', 'has', 'had', 'having', 'do', 'does', 'did', 'doing', 'a', 'an', 'the', 'and', 'but', 'if', 'or', 'because', 'as', 'until', 'while', 'of', 'at', 'by', 'for', 'with', 'about', 'against', 'between', 'into', 'through', 'during', 'before', 'after', 'above', 'below', 'to', 'from', 'up', 'down', 'in', 'out', 'on', 'off', 'over', 'under', 'again', 'further', 'then', 'once', 'here', 'there', 'when', 'where', 'why', 'how', 'all', 'any', 'both', 'each', 'few', 'more', 'most', 'other', 'some', 'such', 'no', 'nor', 'not', 'only', 'own', 'same', 'so', 'than', 'too', 'very', 's', 't', 'can', 'will', 'just', 'don', \"don't\", 'should', \"should've\", 'now', 'd', 'll', 'm', 'o', 're', 've', 'y', 'ain', 'aren', \"aren't\", 'couldn', \"couldn't\", 'didn', \"didn't\", 'doesn', \"doesn't\", 'hadn', \"hadn't\", 'hasn', \"hasn't\", 'haven', \"haven't\", 'isn', \"isn't\", 'ma', 'mightn', \"mightn't\", 'mustn', \"mustn't\", 'needn', \"needn't\", 'shan', \"shan't\", 'shouldn', \"shouldn't\", 'wasn', \"wasn't\", 'weren', \"weren't\", 'won', \"won't\", 'wouldn', \"wouldn't\"]\n"
     ]
    }
   ],
   "source": [
    "print(stopword_list)"
   ]
  },
  {
   "cell_type": "code",
   "execution_count": 54,
   "id": "288c44c4",
   "metadata": {},
   "outputs": [],
   "source": [
    "import json\n",
    "with open('contractions.json','r') as f:\n",
    "    contractions_dict = json.load(f)\n",
    "contractions = contractions_dict['contractions']\n",
    "def replace_contractions(text):\n",
    "    for word in text.split():\n",
    "        if word.lower()  in contractions:\n",
    "            text = text.replace(word,contractions[word.lower()])\n",
    "    return text"
   ]
  },
  {
   "cell_type": "code",
   "execution_count": 55,
   "id": "37f55dee",
   "metadata": {},
   "outputs": [],
   "source": [
    "with open('negations.json','r') as f:\n",
    "    neg_dict = json.load(f)\n",
    "negations = neg_dict['negations']\n",
    "\n",
    "#Antonyms\n",
    "#Negation Handler\n",
    "from nltk.corpus import wordnet\n",
    "from nltk.tokenize import word_tokenize\n",
    "# from nltk.\n",
    "class AntonymReplacer(object):\n",
    "    def replace(self,word):\n",
    "        antonyms = set()\n",
    "        for syn in wordnet.synsets(word):\n",
    "            if syn.pos() in ['a' ,'s']:\n",
    "                for lemma in syn.lemmas():\n",
    "                    for antonym in lemma.antonyms():\n",
    "                        antonyms.add(antonym.name())\n",
    "        if(len(antonyms) == 1):\n",
    "            return antonyms.pop()\n",
    "        else:\n",
    "            if word in negations:\n",
    "                word = word.replace(word,negations[word])\n",
    "                return word\n",
    "        \n",
    "    #Negation Replacer\n",
    "    def negReplacer(self, string):\n",
    "        i=0\n",
    "        finalSent = \"\"\n",
    "        sent = word_tokenize(string)\n",
    "        length_sent = len(sent)\n",
    "        words = []\n",
    "        while i < length_sent:\n",
    "            word = sent[i]\n",
    "            if word == 'not' and i+1 < length_sent:\n",
    "                antonymWord = self.replace(sent[i+1])\n",
    "                if antonymWord:\n",
    "                    words.append(antonymWord)\n",
    "                    finalSent += antonymWord + \" \"\n",
    "                    i += 2\n",
    "                    continue\n",
    "            words.append(word)\n",
    "            finalSent += word + \" \"\n",
    "            i += 1\n",
    "        return finalSent\n",
    "    \n",
    "# replacer = AntonymReplacer()\n",
    "# oppWord = replacer.negReplacer('not recommend')\n",
    "# print(oppWord)\n",
    "    \n",
    "def replace_negation(text):\n",
    "    \n",
    "    replacer = AntonymReplacer()\n",
    "    oppWord = replacer.negReplacer(text)\n",
    "    return oppWord\n",
    "\n",
    "# replace_negation('I am heavy')"
   ]
  },
  {
   "cell_type": "code",
   "execution_count": 56,
   "id": "97c756e9",
   "metadata": {},
   "outputs": [],
   "source": [
    "amazonDataFiltered['Reviews'] =amazonDataFiltered['Reviews'].apply(lower_case)\n",
    "amazonDataFiltered['Reviews'] =amazonDataFiltered['Reviews'].apply(remove_multiple)\n",
    "amazonDataFiltered['Reviews'] =amazonDataFiltered['Reviews'].apply(remove_single_char)\n",
    "amazonDataFiltered['Reviews'] =amazonDataFiltered['Reviews'].apply(remove_special_characters)\n",
    "amazonDataFiltered['Reviews'] =amazonDataFiltered['Reviews'].apply(remove_square_brackets)\n",
    "amazonDataFiltered['Reviews'] =amazonDataFiltered['Reviews'].apply(remove_urls)\n",
    "amazonDataFiltered['Reviews'] =amazonDataFiltered['Reviews'].apply(remove_username)\n",
    "amazonDataFiltered['Reviews'] =amazonDataFiltered['Reviews'].apply(replace_contractions)\n",
    "amazonDataFiltered['Reviews'] =amazonDataFiltered['Reviews'].apply(replace_negation)\n",
    "amazonDataFiltered['Reviews'] =amazonDataFiltered['Reviews'].apply(remove_stopwords)"
   ]
  },
  {
   "cell_type": "code",
   "execution_count": 57,
   "id": "8442020d",
   "metadata": {},
   "outputs": [],
   "source": [
    "X = amazonDataFiltered[\"Reviews\"]\n",
    "y = amazonDataFiltered[\"Sentiment\"]"
   ]
  },
  {
   "cell_type": "code",
   "execution_count": 59,
   "id": "77ef7411",
   "metadata": {},
   "outputs": [],
   "source": [
    "from sklearn.model_selection import train_test_split\n",
    "X_train, X_test, y_train, y_test = train_test_split(X, y, test_size=0.2)"
   ]
  },
  {
   "cell_type": "code",
   "execution_count": 60,
   "id": "cb55501c",
   "metadata": {},
   "outputs": [
    {
     "data": {
      "text/plain": [
       "33548    Positive\n",
       "2505     Positive\n",
       "10820    Negative\n",
       "9460     Negative\n",
       "46880    Negative\n",
       "Name: Sentiment, dtype: object"
      ]
     },
     "execution_count": 60,
     "metadata": {},
     "output_type": "execute_result"
    }
   ],
   "source": [
    "y_train.head()"
   ]
  },
  {
   "cell_type": "code",
   "execution_count": 61,
   "id": "fe36b494",
   "metadata": {},
   "outputs": [
    {
     "data": {
      "text/plain": [
       "9450     Positive\n",
       "24223    Positive\n",
       "12862    Positive\n",
       "28231    Positive\n",
       "3653     Positive\n",
       "Name: Sentiment, dtype: object"
      ]
     },
     "execution_count": 61,
     "metadata": {},
     "output_type": "execute_result"
    }
   ],
   "source": [
    "y_test.head()"
   ]
  },
  {
   "cell_type": "code",
   "execution_count": 62,
   "id": "708c3072",
   "metadata": {},
   "outputs": [
    {
     "name": "stdout",
     "output_type": "stream",
     "text": [
      "(24000,)\n",
      "(6000,)\n"
     ]
    }
   ],
   "source": [
    "print(X_train.shape)\n",
    "print(X_test.shape)"
   ]
  },
  {
   "cell_type": "code",
   "execution_count": 64,
   "id": "9dc8e383",
   "metadata": {},
   "outputs": [],
   "source": [
    "from sklearn.feature_extraction.text import TfidfVectorizer\n",
    "tfidf_vector = TfidfVectorizer()"
   ]
  },
  {
   "cell_type": "code",
   "execution_count": 65,
   "id": "ecdde283",
   "metadata": {},
   "outputs": [
    {
     "data": {
      "text/plain": [
       "TfidfVectorizer()"
      ]
     },
     "execution_count": 65,
     "metadata": {},
     "output_type": "execute_result"
    }
   ],
   "source": [
    "tfidf_vector.fit(X_train)"
   ]
  },
  {
   "cell_type": "code",
   "execution_count": 66,
   "id": "9eb21093",
   "metadata": {
    "collapsed": true
   },
   "outputs": [
    {
     "name": "stderr",
     "output_type": "stream",
     "text": [
      "c:\\users\\admin\\appdata\\local\\programs\\python\\python38\\lib\\site-packages\\sklearn\\utils\\deprecation.py:87: FutureWarning: Function get_feature_names is deprecated; get_feature_names is deprecated in 1.0 and will be removed in 1.2. Please use get_feature_names_out instead.\n",
      "  warnings.warn(msg, category=FutureWarning)\n"
     ]
    },
    {
     "data": {
      "text/plain": [
       "['zenui',\n",
       " 'zenuithe',\n",
       " 'zero',\n",
       " 'zerothe',\n",
       " 'zf',\n",
       " 'zillion',\n",
       " 'zip',\n",
       " 'ziplock',\n",
       " 'zippy',\n",
       " 'zippythe',\n",
       " 'zips',\n",
       " 'zmax',\n",
       " 'zone',\n",
       " 'zones',\n",
       " 'zoom',\n",
       " 'zoomed',\n",
       " 'zooming',\n",
       " 'zoverall',\n",
       " 'zsound',\n",
       " 'zte']"
      ]
     },
     "execution_count": 66,
     "metadata": {},
     "output_type": "execute_result"
    }
   ],
   "source": [
    "tfidf_vector.get_feature_names()[-20:]"
   ]
  },
  {
   "cell_type": "code",
   "execution_count": 67,
   "id": "5abafeda",
   "metadata": {},
   "outputs": [],
   "source": [
    "X_train_data = tfidf_vector.transform(X_train)"
   ]
  },
  {
   "cell_type": "code",
   "execution_count": 68,
   "id": "a2ed0e37",
   "metadata": {},
   "outputs": [
    {
     "data": {
      "text/plain": [
       "(24000, 15712)"
      ]
     },
     "execution_count": 68,
     "metadata": {},
     "output_type": "execute_result"
    }
   ],
   "source": [
    "X_train_data.shape"
   ]
  },
  {
   "cell_type": "code",
   "execution_count": 69,
   "id": "ffc1fdf6",
   "metadata": {},
   "outputs": [
    {
     "data": {
      "text/plain": [
       "<24000x15712 sparse matrix of type '<class 'numpy.float64'>'\n",
       "\twith 360694 stored elements in Compressed Sparse Row format>"
      ]
     },
     "execution_count": 69,
     "metadata": {},
     "output_type": "execute_result"
    }
   ],
   "source": [
    "X_train_data"
   ]
  },
  {
   "cell_type": "code",
   "execution_count": 70,
   "id": "e20c6fcf",
   "metadata": {},
   "outputs": [],
   "source": [
    "X_test_data = tfidf_vector.transform(X_test)"
   ]
  },
  {
   "cell_type": "code",
   "execution_count": 71,
   "id": "80767eb0",
   "metadata": {},
   "outputs": [
    {
     "data": {
      "text/plain": [
       "<6000x15712 sparse matrix of type '<class 'numpy.float64'>'\n",
       "\twith 90249 stored elements in Compressed Sparse Row format>"
      ]
     },
     "execution_count": 71,
     "metadata": {},
     "output_type": "execute_result"
    }
   ],
   "source": [
    "X_test_data"
   ]
  },
  {
   "cell_type": "code",
   "execution_count": 72,
   "id": "16687b87",
   "metadata": {},
   "outputs": [
    {
     "data": {
      "text/plain": [
       "MultinomialNB()"
      ]
     },
     "execution_count": 72,
     "metadata": {},
     "output_type": "execute_result"
    }
   ],
   "source": [
    "from sklearn.naive_bayes import MultinomialNB\n",
    "MNB = MultinomialNB()\n",
    "MNB.fit(X_train_data, y_train)"
   ]
  },
  {
   "cell_type": "code",
   "execution_count": 73,
   "id": "a805d76f",
   "metadata": {},
   "outputs": [],
   "source": [
    "predictions = MNB.predict(X_test_data)"
   ]
  },
  {
   "cell_type": "code",
   "execution_count": 74,
   "id": "d6ebf05d",
   "metadata": {},
   "outputs": [
    {
     "data": {
      "text/plain": [
       "0.9356666666666666"
      ]
     },
     "execution_count": 74,
     "metadata": {},
     "output_type": "execute_result"
    }
   ],
   "source": [
    "from sklearn.metrics import accuracy_score, classification_report\n",
    "accuracy_score(y_test, predictions)"
   ]
  },
  {
   "cell_type": "code",
   "execution_count": 75,
   "id": "a46e3c18",
   "metadata": {},
   "outputs": [
    {
     "name": "stdout",
     "output_type": "stream",
     "text": [
      "              precision    recall  f1-score   support\n",
      "\n",
      "    Negative       0.93      0.95      0.94      3054\n",
      "    Positive       0.95      0.92      0.93      2946\n",
      "\n",
      "    accuracy                           0.94      6000\n",
      "   macro avg       0.94      0.94      0.94      6000\n",
      "weighted avg       0.94      0.94      0.94      6000\n",
      "\n"
     ]
    }
   ],
   "source": [
    "print(classification_report(y_test, predictions))"
   ]
  },
  {
   "cell_type": "markdown",
   "id": "29a1d164",
   "metadata": {},
   "source": [
    "# Test with different data"
   ]
  },
  {
   "cell_type": "code",
   "execution_count": 76,
   "id": "a64d655b",
   "metadata": {},
   "outputs": [
    {
     "name": "stdout",
     "output_type": "stream",
     "text": [
      "['Excellent product. Easy to use, large screen makes watching movies and reading easier.', 'I am so happy today', 'Note 10 has great camera quality. I am loving it.', 'I dont know what is wrong with this phone. I have been trying to type but its not working.', 'Dell laptop battery dead', 'Good, but unhappy that screen size is small, less than I expected', 'The product has not disappointed', 'It is a expensive phone', 'I hate apple', 'less expensive than last year with so many more features and bigger screen!', 'I do not enjoy working under tight deadline', 'worst phone in the history', 'phone is not good but has nice screen']\n"
     ]
    }
   ],
   "source": [
    "text1 = [\n",
    "#         'Will not repurchase. Do not recommend',\n",
    "#        'I hate this',\n",
    "#        'I love this',\n",
    "#        'This is not worth it',\n",
    "#        'This is not terrible',\n",
    "#        'This product so far has not disappointed',\n",
    "        'Excellent product. Easy to use, large screen makes watching movies and reading easier.',\n",
    "        'I am so happy today',\n",
    "       'Note 10 has great camera quality. I am loving it.',\n",
    "       'I dont know what is wrong with this phone. I have been trying to type but its not working.',\n",
    "       'Dell laptop battery dead',\n",
    "        'Good, but unhappy that screen size is small, less than I expected',\n",
    "       'The product has not disappointed',\n",
    "       'It is a expensive phone',\n",
    "       'I hate apple',\n",
    "        'less expensive than last year with so many more features and bigger screen!',\n",
    "        'I do not enjoy working under tight deadline',\n",
    "        'worst phone in the history',\n",
    "        'phone is not good but has nice screen'\n",
    "]\n",
    "print(text1)\n",
    "text_df1 = pd.DataFrame(text1,columns=['text'])\n",
    "# print(text_df1)\n"
   ]
  },
  {
   "cell_type": "code",
   "execution_count": 77,
   "id": "73d0b0e7",
   "metadata": {},
   "outputs": [],
   "source": [
    "text_df1['text'] =text_df1['text'].apply(lower_case)\n",
    "text_df1['text'] =text_df1['text'].apply(remove_multiple)\n",
    "text_df1['text'] =text_df1['text'].apply(remove_single_char)\n",
    "text_df1['text'] =text_df1['text'].apply(remove_special_characters)\n",
    "# text_df1['text'] =text_df1['text'].apply(remove_stopwords)\n",
    "text_df1['text'] =text_df1['text'].apply(remove_square_brackets)\n",
    "text_df1['text'] =text_df1['text'].apply(remove_urls)\n",
    "text_df1['text'] =text_df1['text'].apply(remove_username)\n",
    "text_df1['text'] =text_df1['text'].apply(replace_contractions)\n",
    "text_df1['text'] =text_df1['text'].apply(replace_negation)\n",
    "# text_df1['text'] =text_df1['text'].apply(remove_stopwords)"
   ]
  },
  {
   "cell_type": "code",
   "execution_count": 78,
   "id": "6e858764",
   "metadata": {},
   "outputs": [
    {
     "data": {
      "text/plain": [
       "0     excellent product easy to use large screen mak...\n",
       "1                                    am so happy today \n",
       "2           note has great camera quality am loving it \n",
       "3     dont know what is wrong with this phone have b...\n",
       "4                             dell laptop battery dead \n",
       "5     good but unhappy that screen size is small les...\n",
       "6                            the product has satisfied \n",
       "7                                it is expensive phone \n",
       "8                                           hate apple \n",
       "9     less expensive than last year with so many mor...\n",
       "10                do hate working under tight deadline \n",
       "11                          worst phone in the history \n",
       "12               phone is not good but has nice screen \n",
       "Name: text, dtype: object"
      ]
     },
     "execution_count": 78,
     "metadata": {},
     "output_type": "execute_result"
    }
   ],
   "source": [
    "text_df1['text']"
   ]
  },
  {
   "cell_type": "code",
   "execution_count": 79,
   "id": "86786d71",
   "metadata": {},
   "outputs": [],
   "source": [
    "text=tfidf_vector.transform(text_df1['text'])"
   ]
  },
  {
   "cell_type": "code",
   "execution_count": 80,
   "id": "51cdfe50",
   "metadata": {},
   "outputs": [],
   "source": [
    "prediction = MNB.predict(text)"
   ]
  },
  {
   "cell_type": "code",
   "execution_count": 81,
   "id": "ffa92343",
   "metadata": {},
   "outputs": [
    {
     "data": {
      "text/plain": [
       "array(['Positive', 'Positive', 'Positive', 'Negative', 'Negative',\n",
       "       'Positive', 'Positive', 'Negative', 'Negative', 'Negative',\n",
       "       'Negative', 'Negative', 'Positive'], dtype='<U8')"
      ]
     },
     "execution_count": 81,
     "metadata": {},
     "output_type": "execute_result"
    }
   ],
   "source": [
    "prediction"
   ]
  },
  {
   "cell_type": "code",
   "execution_count": 82,
   "id": "6c1d3a19",
   "metadata": {},
   "outputs": [],
   "source": [
    "list_of_tuples = list(zip(text_df1['text'], prediction)) "
   ]
  },
  {
   "cell_type": "code",
   "execution_count": 83,
   "id": "67cf16b9",
   "metadata": {},
   "outputs": [
    {
     "data": {
      "text/html": [
       "<div>\n",
       "<style scoped>\n",
       "    .dataframe tbody tr th:only-of-type {\n",
       "        vertical-align: middle;\n",
       "    }\n",
       "\n",
       "    .dataframe tbody tr th {\n",
       "        vertical-align: top;\n",
       "    }\n",
       "\n",
       "    .dataframe thead th {\n",
       "        text-align: right;\n",
       "    }\n",
       "</style>\n",
       "<table border=\"1\" class=\"dataframe\">\n",
       "  <thead>\n",
       "    <tr style=\"text-align: right;\">\n",
       "      <th></th>\n",
       "      <th>Text</th>\n",
       "      <th>Sentiment</th>\n",
       "    </tr>\n",
       "  </thead>\n",
       "  <tbody>\n",
       "    <tr>\n",
       "      <th>0</th>\n",
       "      <td>excellent product easy to use large screen mak...</td>\n",
       "      <td>Positive</td>\n",
       "    </tr>\n",
       "    <tr>\n",
       "      <th>1</th>\n",
       "      <td>am so happy today</td>\n",
       "      <td>Positive</td>\n",
       "    </tr>\n",
       "    <tr>\n",
       "      <th>2</th>\n",
       "      <td>note has great camera quality am loving it</td>\n",
       "      <td>Positive</td>\n",
       "    </tr>\n",
       "    <tr>\n",
       "      <th>3</th>\n",
       "      <td>dont know what is wrong with this phone have b...</td>\n",
       "      <td>Negative</td>\n",
       "    </tr>\n",
       "    <tr>\n",
       "      <th>4</th>\n",
       "      <td>dell laptop battery dead</td>\n",
       "      <td>Negative</td>\n",
       "    </tr>\n",
       "    <tr>\n",
       "      <th>5</th>\n",
       "      <td>good but unhappy that screen size is small les...</td>\n",
       "      <td>Positive</td>\n",
       "    </tr>\n",
       "    <tr>\n",
       "      <th>6</th>\n",
       "      <td>the product has satisfied</td>\n",
       "      <td>Positive</td>\n",
       "    </tr>\n",
       "    <tr>\n",
       "      <th>7</th>\n",
       "      <td>it is expensive phone</td>\n",
       "      <td>Negative</td>\n",
       "    </tr>\n",
       "    <tr>\n",
       "      <th>8</th>\n",
       "      <td>hate apple</td>\n",
       "      <td>Negative</td>\n",
       "    </tr>\n",
       "    <tr>\n",
       "      <th>9</th>\n",
       "      <td>less expensive than last year with so many mor...</td>\n",
       "      <td>Negative</td>\n",
       "    </tr>\n",
       "    <tr>\n",
       "      <th>10</th>\n",
       "      <td>do hate working under tight deadline</td>\n",
       "      <td>Negative</td>\n",
       "    </tr>\n",
       "    <tr>\n",
       "      <th>11</th>\n",
       "      <td>worst phone in the history</td>\n",
       "      <td>Negative</td>\n",
       "    </tr>\n",
       "    <tr>\n",
       "      <th>12</th>\n",
       "      <td>phone is not good but has nice screen</td>\n",
       "      <td>Positive</td>\n",
       "    </tr>\n",
       "  </tbody>\n",
       "</table>\n",
       "</div>"
      ],
      "text/plain": [
       "                                                 Text Sentiment\n",
       "0   excellent product easy to use large screen mak...  Positive\n",
       "1                                  am so happy today   Positive\n",
       "2         note has great camera quality am loving it   Positive\n",
       "3   dont know what is wrong with this phone have b...  Negative\n",
       "4                           dell laptop battery dead   Negative\n",
       "5   good but unhappy that screen size is small les...  Positive\n",
       "6                          the product has satisfied   Positive\n",
       "7                              it is expensive phone   Negative\n",
       "8                                         hate apple   Negative\n",
       "9   less expensive than last year with so many mor...  Negative\n",
       "10              do hate working under tight deadline   Negative\n",
       "11                        worst phone in the history   Negative\n",
       "12             phone is not good but has nice screen   Positive"
      ]
     },
     "execution_count": 83,
     "metadata": {},
     "output_type": "execute_result"
    }
   ],
   "source": [
    "pd.DataFrame(list_of_tuples, columns = ['Text', 'Sentiment'])"
   ]
  },
  {
   "cell_type": "code",
   "execution_count": null,
   "id": "2776d711",
   "metadata": {},
   "outputs": [],
   "source": []
  },
  {
   "cell_type": "code",
   "execution_count": null,
   "id": "6190c153",
   "metadata": {},
   "outputs": [],
   "source": []
  },
  {
   "cell_type": "code",
   "execution_count": null,
   "id": "f7ef4671",
   "metadata": {},
   "outputs": [],
   "source": []
  },
  {
   "cell_type": "code",
   "execution_count": null,
   "id": "3ff0e75e",
   "metadata": {},
   "outputs": [],
   "source": []
  },
  {
   "cell_type": "markdown",
   "id": "193bd7aa",
   "metadata": {},
   "source": [
    "TWITTER_SENTIMENT.CSV"
   ]
  },
  {
   "cell_type": "code",
   "execution_count": 84,
   "id": "c33ce722",
   "metadata": {},
   "outputs": [
    {
     "data": {
      "text/html": [
       "<div>\n",
       "<style scoped>\n",
       "    .dataframe tbody tr th:only-of-type {\n",
       "        vertical-align: middle;\n",
       "    }\n",
       "\n",
       "    .dataframe tbody tr th {\n",
       "        vertical-align: top;\n",
       "    }\n",
       "\n",
       "    .dataframe thead th {\n",
       "        text-align: right;\n",
       "    }\n",
       "</style>\n",
       "<table border=\"1\" class=\"dataframe\">\n",
       "  <thead>\n",
       "    <tr style=\"text-align: right;\">\n",
       "      <th></th>\n",
       "      <th>ItemID</th>\n",
       "      <th>Sentiment</th>\n",
       "      <th>SentimentText</th>\n",
       "    </tr>\n",
       "  </thead>\n",
       "  <tbody>\n",
       "    <tr>\n",
       "      <th>0</th>\n",
       "      <td>1</td>\n",
       "      <td>0</td>\n",
       "      <td>is so sad for my APL frie...</td>\n",
       "    </tr>\n",
       "    <tr>\n",
       "      <th>1</th>\n",
       "      <td>2</td>\n",
       "      <td>0</td>\n",
       "      <td>I missed the New Moon trail...</td>\n",
       "    </tr>\n",
       "    <tr>\n",
       "      <th>2</th>\n",
       "      <td>3</td>\n",
       "      <td>1</td>\n",
       "      <td>omg its already 7:30 :O</td>\n",
       "    </tr>\n",
       "    <tr>\n",
       "      <th>3</th>\n",
       "      <td>4</td>\n",
       "      <td>0</td>\n",
       "      <td>.. Omgaga. Im sooo  im gunna CRy. I'...</td>\n",
       "    </tr>\n",
       "    <tr>\n",
       "      <th>4</th>\n",
       "      <td>5</td>\n",
       "      <td>0</td>\n",
       "      <td>i think mi bf is cheating on me!!!   ...</td>\n",
       "    </tr>\n",
       "  </tbody>\n",
       "</table>\n",
       "</div>"
      ],
      "text/plain": [
       "   ItemID  Sentiment                                      SentimentText\n",
       "0       1          0                       is so sad for my APL frie...\n",
       "1       2          0                     I missed the New Moon trail...\n",
       "2       3          1                            omg its already 7:30 :O\n",
       "3       4          0            .. Omgaga. Im sooo  im gunna CRy. I'...\n",
       "4       5          0           i think mi bf is cheating on me!!!   ..."
      ]
     },
     "execution_count": 84,
     "metadata": {},
     "output_type": "execute_result"
    }
   ],
   "source": [
    "twitterDf = pd.read_csv('twitter_sentiment.csv',encoding='ISO-8859-1')\n",
    "twitterDf.head()"
   ]
  },
  {
   "cell_type": "code",
   "execution_count": 85,
   "id": "0e60abd3",
   "metadata": {},
   "outputs": [],
   "source": [
    "twitterDf = twitterDf[[\"Sentiment\",\"SentimentText\"]]"
   ]
  },
  {
   "cell_type": "code",
   "execution_count": 86,
   "id": "8afcb29a",
   "metadata": {},
   "outputs": [],
   "source": [
    "twitterDf[\"Sentiment\"] = twitterDf[\"Sentiment\"].replace(0,\"Negative\")\n",
    "twitterDf[\"Sentiment\"] = twitterDf[\"Sentiment\"].replace(1,\"Positive\")"
   ]
  },
  {
   "cell_type": "code",
   "execution_count": 87,
   "id": "435a37c5",
   "metadata": {},
   "outputs": [
    {
     "data": {
      "text/html": [
       "<div>\n",
       "<style scoped>\n",
       "    .dataframe tbody tr th:only-of-type {\n",
       "        vertical-align: middle;\n",
       "    }\n",
       "\n",
       "    .dataframe tbody tr th {\n",
       "        vertical-align: top;\n",
       "    }\n",
       "\n",
       "    .dataframe thead th {\n",
       "        text-align: right;\n",
       "    }\n",
       "</style>\n",
       "<table border=\"1\" class=\"dataframe\">\n",
       "  <thead>\n",
       "    <tr style=\"text-align: right;\">\n",
       "      <th></th>\n",
       "      <th>Sentiment</th>\n",
       "      <th>SentimentText</th>\n",
       "    </tr>\n",
       "  </thead>\n",
       "  <tbody>\n",
       "    <tr>\n",
       "      <th>0</th>\n",
       "      <td>Negative</td>\n",
       "      <td>is so sad for my APL frie...</td>\n",
       "    </tr>\n",
       "    <tr>\n",
       "      <th>1</th>\n",
       "      <td>Negative</td>\n",
       "      <td>I missed the New Moon trail...</td>\n",
       "    </tr>\n",
       "    <tr>\n",
       "      <th>2</th>\n",
       "      <td>Positive</td>\n",
       "      <td>omg its already 7:30 :O</td>\n",
       "    </tr>\n",
       "    <tr>\n",
       "      <th>3</th>\n",
       "      <td>Negative</td>\n",
       "      <td>.. Omgaga. Im sooo  im gunna CRy. I'...</td>\n",
       "    </tr>\n",
       "    <tr>\n",
       "      <th>4</th>\n",
       "      <td>Negative</td>\n",
       "      <td>i think mi bf is cheating on me!!!   ...</td>\n",
       "    </tr>\n",
       "  </tbody>\n",
       "</table>\n",
       "</div>"
      ],
      "text/plain": [
       "  Sentiment                                      SentimentText\n",
       "0  Negative                       is so sad for my APL frie...\n",
       "1  Negative                     I missed the New Moon trail...\n",
       "2  Positive                            omg its already 7:30 :O\n",
       "3  Negative            .. Omgaga. Im sooo  im gunna CRy. I'...\n",
       "4  Negative           i think mi bf is cheating on me!!!   ..."
      ]
     },
     "execution_count": 87,
     "metadata": {},
     "output_type": "execute_result"
    }
   ],
   "source": [
    "twitterDf.head()"
   ]
  },
  {
   "cell_type": "code",
   "execution_count": 88,
   "id": "1533d4ff",
   "metadata": {},
   "outputs": [],
   "source": [
    "twitterDf.rename(columns={'Sentiment': 'Sentiment', 'SentimentText': 'Reviews'}, inplace=True)"
   ]
  },
  {
   "cell_type": "code",
   "execution_count": 89,
   "id": "73a41b35",
   "metadata": {},
   "outputs": [
    {
     "data": {
      "text/html": [
       "<div>\n",
       "<style scoped>\n",
       "    .dataframe tbody tr th:only-of-type {\n",
       "        vertical-align: middle;\n",
       "    }\n",
       "\n",
       "    .dataframe tbody tr th {\n",
       "        vertical-align: top;\n",
       "    }\n",
       "\n",
       "    .dataframe thead th {\n",
       "        text-align: right;\n",
       "    }\n",
       "</style>\n",
       "<table border=\"1\" class=\"dataframe\">\n",
       "  <thead>\n",
       "    <tr style=\"text-align: right;\">\n",
       "      <th></th>\n",
       "      <th>Reviews</th>\n",
       "      <th>Rating</th>\n",
       "      <th>Sentiment</th>\n",
       "    </tr>\n",
       "  </thead>\n",
       "  <tbody>\n",
       "    <tr>\n",
       "      <th>1</th>\n",
       "      <td>nice phone nice grade pantach revue clean set ...</td>\n",
       "      <td>4.0</td>\n",
       "      <td>Positive</td>\n",
       "    </tr>\n",
       "    <tr>\n",
       "      <th>3</th>\n",
       "      <td>works good goes slow sometimes good phone love</td>\n",
       "      <td>4.0</td>\n",
       "      <td>Positive</td>\n",
       "    </tr>\n",
       "    <tr>\n",
       "      <th>4</th>\n",
       "      <td>great phone replace lost phone thing volume bu...</td>\n",
       "      <td>4.0</td>\n",
       "      <td>Positive</td>\n",
       "    </tr>\n",
       "    <tr>\n",
       "      <th>18</th>\n",
       "      <td>love phone everything need works great purchas...</td>\n",
       "      <td>4.0</td>\n",
       "      <td>Positive</td>\n",
       "    </tr>\n",
       "    <tr>\n",
       "      <th>20</th>\n",
       "      <td>battery old used barely holds charge otherwise...</td>\n",
       "      <td>4.0</td>\n",
       "      <td>Positive</td>\n",
       "    </tr>\n",
       "  </tbody>\n",
       "</table>\n",
       "</div>"
      ],
      "text/plain": [
       "                                              Reviews  Rating Sentiment\n",
       "1   nice phone nice grade pantach revue clean set ...     4.0  Positive\n",
       "3      works good goes slow sometimes good phone love     4.0  Positive\n",
       "4   great phone replace lost phone thing volume bu...     4.0  Positive\n",
       "18  love phone everything need works great purchas...     4.0  Positive\n",
       "20  battery old used barely holds charge otherwise...     4.0  Positive"
      ]
     },
     "execution_count": 89,
     "metadata": {},
     "output_type": "execute_result"
    }
   ],
   "source": [
    "data = pd.concat([amazonDataFiltered, twitterDf])\n",
    "data.head()"
   ]
  },
  {
   "cell_type": "code",
   "execution_count": 90,
   "id": "a6e79d46",
   "metadata": {},
   "outputs": [
    {
     "data": {
      "text/plain": [
       "200    good hope phone seniors reminiscent cordless h...\n",
       "200     @georgediaz #Magic ..thinking less than 50 % ...\n",
       "Name: Reviews, dtype: object"
      ]
     },
     "execution_count": 90,
     "metadata": {},
     "output_type": "execute_result"
    }
   ],
   "source": [
    "data[\"Reviews\"][200]"
   ]
  },
  {
   "cell_type": "code",
   "execution_count": 91,
   "id": "2e68b984",
   "metadata": {},
   "outputs": [
    {
     "data": {
      "text/html": [
       "<div>\n",
       "<style scoped>\n",
       "    .dataframe tbody tr th:only-of-type {\n",
       "        vertical-align: middle;\n",
       "    }\n",
       "\n",
       "    .dataframe tbody tr th {\n",
       "        vertical-align: top;\n",
       "    }\n",
       "\n",
       "    .dataframe thead th {\n",
       "        text-align: right;\n",
       "    }\n",
       "</style>\n",
       "<table border=\"1\" class=\"dataframe\">\n",
       "  <thead>\n",
       "    <tr style=\"text-align: right;\">\n",
       "      <th></th>\n",
       "      <th>Reviews</th>\n",
       "      <th>Rating</th>\n",
       "      <th>Sentiment</th>\n",
       "    </tr>\n",
       "  </thead>\n",
       "  <tbody>\n",
       "    <tr>\n",
       "      <th>99984</th>\n",
       "      <td>@Cupcake  seems like a repeating problem   hop...</td>\n",
       "      <td>NaN</td>\n",
       "      <td>Negative</td>\n",
       "    </tr>\n",
       "    <tr>\n",
       "      <th>99985</th>\n",
       "      <td>@cupcake__ arrrr we both replied to each other...</td>\n",
       "      <td>NaN</td>\n",
       "      <td>Positive</td>\n",
       "    </tr>\n",
       "    <tr>\n",
       "      <th>99986</th>\n",
       "      <td>@CuPcAkE_2120 ya i thought so</td>\n",
       "      <td>NaN</td>\n",
       "      <td>Negative</td>\n",
       "    </tr>\n",
       "    <tr>\n",
       "      <th>99987</th>\n",
       "      <td>@Cupcake_Dollie Yes. Yes. I'm glad you had mor...</td>\n",
       "      <td>NaN</td>\n",
       "      <td>Positive</td>\n",
       "    </tr>\n",
       "    <tr>\n",
       "      <th>99988</th>\n",
       "      <td>@cupcake_kayla haha yes you do</td>\n",
       "      <td>NaN</td>\n",
       "      <td>Positive</td>\n",
       "    </tr>\n",
       "  </tbody>\n",
       "</table>\n",
       "</div>"
      ],
      "text/plain": [
       "                                                 Reviews  Rating Sentiment\n",
       "99984  @Cupcake  seems like a repeating problem   hop...     NaN  Negative\n",
       "99985  @cupcake__ arrrr we both replied to each other...     NaN  Positive\n",
       "99986                     @CuPcAkE_2120 ya i thought so      NaN  Negative\n",
       "99987  @Cupcake_Dollie Yes. Yes. I'm glad you had mor...     NaN  Positive\n",
       "99988                    @cupcake_kayla haha yes you do      NaN  Positive"
      ]
     },
     "execution_count": 91,
     "metadata": {},
     "output_type": "execute_result"
    }
   ],
   "source": [
    "data.tail()"
   ]
  },
  {
   "cell_type": "code",
   "execution_count": 92,
   "id": "1d5b0196",
   "metadata": {},
   "outputs": [],
   "source": [
    "data['Reviews'] = data['Reviews'].apply(lower_case)\n",
    "data['Reviews'] = data['Reviews'].apply(remove_multiple)\n",
    "data['Reviews'] = data['Reviews'].apply(remove_single_char)\n",
    "data['Reviews'] = data['Reviews'].apply(remove_special_characters)\n",
    "data['Reviews'] = data['Reviews'].apply(remove_square_brackets)\n",
    "data['Reviews'] = data['Reviews'].apply(remove_urls)\n",
    "data['Reviews'] = data['Reviews'].apply(remove_username)\n",
    "data['Reviews'] = data['Reviews'].apply(replace_contractions)\n",
    "data['Reviews'] = data['Reviews'].apply(replace_negation)\n",
    "data['Reviews'] = data['Reviews'].apply(remove_stopwords)"
   ]
  },
  {
   "cell_type": "code",
   "execution_count": 93,
   "id": "7bf7d05e",
   "metadata": {},
   "outputs": [],
   "source": [
    "X = amazonDataFiltered[\"Reviews\"]\n",
    "y = amazonDataFiltered[\"Sentiment\"]\n",
    "X_train, X_test, y_train, y_test = train_test_split(X, y, test_size=0.2, random_state=42)\n",
    "from sklearn.feature_extraction.text import TfidfVectorizer\n",
    "tfidf_vector = TfidfVectorizer()\n",
    "tfidf_vector.fit(X_train)\n",
    "X_train_data = tfidf_vector.transform(X_train)\n",
    "X_test_data = tfidf_vector.transform(X_test)"
   ]
  },
  {
   "cell_type": "code",
   "execution_count": 94,
   "id": "d4d96413",
   "metadata": {},
   "outputs": [
    {
     "data": {
      "text/plain": [
       "0.9285"
      ]
     },
     "execution_count": 94,
     "metadata": {},
     "output_type": "execute_result"
    }
   ],
   "source": [
    "from sklearn.naive_bayes import MultinomialNB\n",
    "MNB = MultinomialNB()\n",
    "MNB.fit(X_train_data, y_train)\n",
    "predictions = MNB.predict(X_test_data)\n",
    "accuracy_score(y_test, predictions)"
   ]
  },
  {
   "cell_type": "code",
   "execution_count": 95,
   "id": "b311089c",
   "metadata": {},
   "outputs": [],
   "source": [
    "def imp_feature(model,classifier):\n",
    "    neg = classifier.feature_log_prob_[0,:].argsort()\n",
    "    pos = classifier.feature_log_prob_[1,:].argsort()\n",
    "    top_pos_words = np.take(model.get_feature_names(),pos)\n",
    "    top_neg_words = np.take(model.get_feature_names(),neg)\n",
    "    imp_df = pd.DataFrame(columns = ['Pos_Words','Pos_Importance','Neg_Words','Neg_Importance'])\n",
    "    imp_df['Pos_Words'] = top_pos_words[::-1]\n",
    "    imp_df['Pos_Importance'] = np.take(classifier.feature_log_prob_[1,:],pos)[::-1]\n",
    "    imp_df['Neg_Words'] = top_neg_words[::-1]\n",
    "    imp_df['Neg_Importance'] = np.take(classifier.feature_log_prob_[0,:],neg)[::-1]\n",
    "    return imp_df"
   ]
  },
  {
   "cell_type": "code",
   "execution_count": 96,
   "id": "46f6d091",
   "metadata": {},
   "outputs": [
    {
     "name": "stderr",
     "output_type": "stream",
     "text": [
      "c:\\users\\admin\\appdata\\local\\programs\\python\\python38\\lib\\site-packages\\sklearn\\utils\\deprecation.py:87: FutureWarning: Function get_feature_names is deprecated; get_feature_names is deprecated in 1.0 and will be removed in 1.2. Please use get_feature_names_out instead.\n",
      "  warnings.warn(msg, category=FutureWarning)\n"
     ]
    },
    {
     "data": {
      "text/html": [
       "<div>\n",
       "<style scoped>\n",
       "    .dataframe tbody tr th:only-of-type {\n",
       "        vertical-align: middle;\n",
       "    }\n",
       "\n",
       "    .dataframe tbody tr th {\n",
       "        vertical-align: top;\n",
       "    }\n",
       "\n",
       "    .dataframe thead th {\n",
       "        text-align: right;\n",
       "    }\n",
       "</style>\n",
       "<table border=\"1\" class=\"dataframe\">\n",
       "  <thead>\n",
       "    <tr style=\"text-align: right;\">\n",
       "      <th></th>\n",
       "      <th>Pos_Words</th>\n",
       "      <th>Pos_Importance</th>\n",
       "      <th>Neg_Words</th>\n",
       "      <th>Neg_Importance</th>\n",
       "    </tr>\n",
       "  </thead>\n",
       "  <tbody>\n",
       "    <tr>\n",
       "      <th>0</th>\n",
       "      <td>great</td>\n",
       "      <td>-3.935845</td>\n",
       "      <td>phone</td>\n",
       "      <td>-4.118495</td>\n",
       "    </tr>\n",
       "    <tr>\n",
       "      <th>1</th>\n",
       "      <td>good</td>\n",
       "      <td>-3.990749</td>\n",
       "      <td>work</td>\n",
       "      <td>-4.837699</td>\n",
       "    </tr>\n",
       "    <tr>\n",
       "      <th>2</th>\n",
       "      <td>phone</td>\n",
       "      <td>-4.151174</td>\n",
       "      <td>iphone</td>\n",
       "      <td>-5.373045</td>\n",
       "    </tr>\n",
       "    <tr>\n",
       "      <th>3</th>\n",
       "      <td>works</td>\n",
       "      <td>-4.580278</td>\n",
       "      <td>battery</td>\n",
       "      <td>-5.379264</td>\n",
       "    </tr>\n",
       "    <tr>\n",
       "      <th>4</th>\n",
       "      <td>love</td>\n",
       "      <td>-4.784445</td>\n",
       "      <td>unlocked</td>\n",
       "      <td>-5.405605</td>\n",
       "    </tr>\n",
       "    <tr>\n",
       "      <th>...</th>\n",
       "      <td>...</td>\n",
       "      <td>...</td>\n",
       "      <td>...</td>\n",
       "      <td>...</td>\n",
       "    </tr>\n",
       "    <tr>\n",
       "      <th>15836</th>\n",
       "      <td>doorstoppersonally</td>\n",
       "      <td>-10.820808</td>\n",
       "      <td>localizer</td>\n",
       "      <td>-10.957132</td>\n",
       "    </tr>\n",
       "    <tr>\n",
       "      <th>15837</th>\n",
       "      <td>learnt</td>\n",
       "      <td>-10.820808</td>\n",
       "      <td>located</td>\n",
       "      <td>-10.957132</td>\n",
       "    </tr>\n",
       "    <tr>\n",
       "      <th>15838</th>\n",
       "      <td>learns</td>\n",
       "      <td>-10.820808</td>\n",
       "      <td>lockcan</td>\n",
       "      <td>-10.957132</td>\n",
       "    </tr>\n",
       "    <tr>\n",
       "      <th>15839</th>\n",
       "      <td>learnedthink</td>\n",
       "      <td>-10.820808</td>\n",
       "      <td>logical</td>\n",
       "      <td>-10.957132</td>\n",
       "    </tr>\n",
       "    <tr>\n",
       "      <th>15840</th>\n",
       "      <td>spinning</td>\n",
       "      <td>-10.820808</td>\n",
       "      <td>aa</td>\n",
       "      <td>-10.957132</td>\n",
       "    </tr>\n",
       "  </tbody>\n",
       "</table>\n",
       "<p>15841 rows × 4 columns</p>\n",
       "</div>"
      ],
      "text/plain": [
       "                Pos_Words  Pos_Importance  Neg_Words  Neg_Importance\n",
       "0                   great       -3.935845      phone       -4.118495\n",
       "1                    good       -3.990749       work       -4.837699\n",
       "2                   phone       -4.151174     iphone       -5.373045\n",
       "3                   works       -4.580278    battery       -5.379264\n",
       "4                    love       -4.784445   unlocked       -5.405605\n",
       "...                   ...             ...        ...             ...\n",
       "15836  doorstoppersonally      -10.820808  localizer      -10.957132\n",
       "15837              learnt      -10.820808    located      -10.957132\n",
       "15838              learns      -10.820808    lockcan      -10.957132\n",
       "15839        learnedthink      -10.820808    logical      -10.957132\n",
       "15840            spinning      -10.820808         aa      -10.957132\n",
       "\n",
       "[15841 rows x 4 columns]"
      ]
     },
     "execution_count": 96,
     "metadata": {},
     "output_type": "execute_result"
    }
   ],
   "source": [
    "imp_feature(tfidf_vector, MNB)"
   ]
  },
  {
   "cell_type": "code",
   "execution_count": 97,
   "id": "646d7b4f",
   "metadata": {},
   "outputs": [
    {
     "name": "stdout",
     "output_type": "stream",
     "text": [
      "Train acc:  0.9435\n",
      "Test acc:  0.9285\n"
     ]
    }
   ],
   "source": [
    "print('Train acc: ',accuracy_score(y_train, MNB.predict(X_train_data)))\n",
    "print('Test acc: ', accuracy_score(y_test, predictions))"
   ]
  },
  {
   "cell_type": "code",
   "execution_count": 98,
   "id": "5aaa3b1d",
   "metadata": {},
   "outputs": [
    {
     "data": {
      "text/plain": [
       "array([[2790,  162],\n",
       "       [ 267, 2781]], dtype=int64)"
      ]
     },
     "execution_count": 98,
     "metadata": {},
     "output_type": "execute_result"
    }
   ],
   "source": [
    "from sklearn.metrics import confusion_matrix\n",
    "confusion_matrix(y_test, predictions)\n",
    "\n",
    "# it shoes that out of 1012 data, 112 data that are acutally positive is predicted as negative"
   ]
  },
  {
   "cell_type": "code",
   "execution_count": null,
   "id": "4751d30e",
   "metadata": {},
   "outputs": [],
   "source": []
  },
  {
   "cell_type": "code",
   "execution_count": null,
   "id": "d91c5e90",
   "metadata": {},
   "outputs": [],
   "source": []
  },
  {
   "cell_type": "code",
   "execution_count": null,
   "id": "825cd367",
   "metadata": {},
   "outputs": [],
   "source": []
  }
 ],
 "metadata": {
  "kernelspec": {
   "display_name": "Python 3 (ipykernel)",
   "language": "python",
   "name": "python3"
  },
  "language_info": {
   "codemirror_mode": {
    "name": "ipython",
    "version": 3
   },
   "file_extension": ".py",
   "mimetype": "text/x-python",
   "name": "python",
   "nbconvert_exporter": "python",
   "pygments_lexer": "ipython3",
   "version": "3.8.10"
  }
 },
 "nbformat": 4,
 "nbformat_minor": 5
}
