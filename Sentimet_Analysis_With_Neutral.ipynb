{
 "cells": [
  {
   "cell_type": "code",
   "execution_count": 1,
   "id": "34eb0c03",
   "metadata": {},
   "outputs": [],
   "source": [
    "import pandas as pd\n",
    "import numpy as np\n",
    "import seaborn as sns\n",
    "import matplotlib.pyplot as plt"
   ]
  },
  {
   "cell_type": "code",
   "execution_count": 2,
   "id": "eb4278bf",
   "metadata": {},
   "outputs": [
    {
     "data": {
      "text/html": [
       "<div>\n",
       "<style scoped>\n",
       "    .dataframe tbody tr th:only-of-type {\n",
       "        vertical-align: middle;\n",
       "    }\n",
       "\n",
       "    .dataframe tbody tr th {\n",
       "        vertical-align: top;\n",
       "    }\n",
       "\n",
       "    .dataframe thead th {\n",
       "        text-align: right;\n",
       "    }\n",
       "</style>\n",
       "<table border=\"1\" class=\"dataframe\">\n",
       "  <thead>\n",
       "    <tr style=\"text-align: right;\">\n",
       "      <th></th>\n",
       "      <th>Product Name</th>\n",
       "      <th>Brand Name</th>\n",
       "      <th>Price</th>\n",
       "      <th>Rating</th>\n",
       "      <th>Reviews</th>\n",
       "      <th>Review Votes</th>\n",
       "    </tr>\n",
       "  </thead>\n",
       "  <tbody>\n",
       "    <tr>\n",
       "      <th>0</th>\n",
       "      <td>\"CLEAR CLEAN ESN\" Sprint EPIC 4G Galaxy SPH-D7...</td>\n",
       "      <td>Samsung</td>\n",
       "      <td>199.99</td>\n",
       "      <td>5</td>\n",
       "      <td>I feel so LUCKY to have found this used (phone...</td>\n",
       "      <td>1.0</td>\n",
       "    </tr>\n",
       "    <tr>\n",
       "      <th>1</th>\n",
       "      <td>\"CLEAR CLEAN ESN\" Sprint EPIC 4G Galaxy SPH-D7...</td>\n",
       "      <td>Samsung</td>\n",
       "      <td>199.99</td>\n",
       "      <td>4</td>\n",
       "      <td>nice phone, nice up grade from my pantach revu...</td>\n",
       "      <td>0.0</td>\n",
       "    </tr>\n",
       "    <tr>\n",
       "      <th>2</th>\n",
       "      <td>\"CLEAR CLEAN ESN\" Sprint EPIC 4G Galaxy SPH-D7...</td>\n",
       "      <td>Samsung</td>\n",
       "      <td>199.99</td>\n",
       "      <td>5</td>\n",
       "      <td>Very pleased</td>\n",
       "      <td>0.0</td>\n",
       "    </tr>\n",
       "    <tr>\n",
       "      <th>3</th>\n",
       "      <td>\"CLEAR CLEAN ESN\" Sprint EPIC 4G Galaxy SPH-D7...</td>\n",
       "      <td>Samsung</td>\n",
       "      <td>199.99</td>\n",
       "      <td>4</td>\n",
       "      <td>It works good but it goes slow sometimes but i...</td>\n",
       "      <td>0.0</td>\n",
       "    </tr>\n",
       "    <tr>\n",
       "      <th>4</th>\n",
       "      <td>\"CLEAR CLEAN ESN\" Sprint EPIC 4G Galaxy SPH-D7...</td>\n",
       "      <td>Samsung</td>\n",
       "      <td>199.99</td>\n",
       "      <td>4</td>\n",
       "      <td>Great phone to replace my lost phone. The only...</td>\n",
       "      <td>0.0</td>\n",
       "    </tr>\n",
       "  </tbody>\n",
       "</table>\n",
       "</div>"
      ],
      "text/plain": [
       "                                        Product Name Brand Name   Price  \\\n",
       "0  \"CLEAR CLEAN ESN\" Sprint EPIC 4G Galaxy SPH-D7...    Samsung  199.99   \n",
       "1  \"CLEAR CLEAN ESN\" Sprint EPIC 4G Galaxy SPH-D7...    Samsung  199.99   \n",
       "2  \"CLEAR CLEAN ESN\" Sprint EPIC 4G Galaxy SPH-D7...    Samsung  199.99   \n",
       "3  \"CLEAR CLEAN ESN\" Sprint EPIC 4G Galaxy SPH-D7...    Samsung  199.99   \n",
       "4  \"CLEAR CLEAN ESN\" Sprint EPIC 4G Galaxy SPH-D7...    Samsung  199.99   \n",
       "\n",
       "   Rating                                            Reviews  Review Votes  \n",
       "0       5  I feel so LUCKY to have found this used (phone...           1.0  \n",
       "1       4  nice phone, nice up grade from my pantach revu...           0.0  \n",
       "2       5                                       Very pleased           0.0  \n",
       "3       4  It works good but it goes slow sometimes but i...           0.0  \n",
       "4       4  Great phone to replace my lost phone. The only...           0.0  "
      ]
     },
     "execution_count": 2,
     "metadata": {},
     "output_type": "execute_result"
    }
   ],
   "source": [
    "amazonData = pd.read_csv('Amazon_Unlocked_Mobile.csv')\n",
    "amazonData.head()"
   ]
  },
  {
   "cell_type": "code",
   "execution_count": 3,
   "id": "2808db50",
   "metadata": {},
   "outputs": [],
   "source": [
    "amazonData = amazonData.dropna(axis=0)"
   ]
  },
  {
   "cell_type": "code",
   "execution_count": 4,
   "id": "ba012873",
   "metadata": {},
   "outputs": [
    {
     "data": {
      "text/plain": [
       "(334335, 6)"
      ]
     },
     "execution_count": 4,
     "metadata": {},
     "output_type": "execute_result"
    }
   ],
   "source": [
    "amazonData.shape"
   ]
  },
  {
   "cell_type": "code",
   "execution_count": 5,
   "id": "fc3021c6",
   "metadata": {},
   "outputs": [],
   "source": [
    "amazonData = amazonData[[\"Reviews\",\"Rating\"]]"
   ]
  },
  {
   "cell_type": "code",
   "execution_count": 6,
   "id": "981178be",
   "metadata": {},
   "outputs": [],
   "source": [
    "amazonDataPositiveDf = amazonData[amazonData[\"Rating\"].isin([4,5])]\n",
    "amazonDataNegativeDf = amazonData[amazonData[\"Rating\"].isin([1,2])]\n",
    "amazonDataNeutralDf = amazonData[amazonData[\"Rating\"].isin([3])]"
   ]
  },
  {
   "cell_type": "code",
   "execution_count": 7,
   "id": "aa3c7a02",
   "metadata": {},
   "outputs": [
    {
     "name": "stdout",
     "output_type": "stream",
     "text": [
      "Positive:  (230674, 2)\n",
      "Neutal:  (26058, 2)\n",
      "Negative:  (77603, 2)\n"
     ]
    }
   ],
   "source": [
    "print('Positive: ', amazonDataPositiveDf.shape)\n",
    "print('Neutal: ', amazonDataNeutralDf.shape)\n",
    "print('Negative: ', amazonDataNegativeDf.shape)"
   ]
  },
  {
   "cell_type": "code",
   "execution_count": 8,
   "id": "55e1d164",
   "metadata": {},
   "outputs": [],
   "source": [
    "amazonDataFiltered = pd.concat([amazonDataPositiveDf[:20000], amazonDataNeutralDf[:20000], amazonDataNegativeDf[:20000]])"
   ]
  },
  {
   "cell_type": "code",
   "execution_count": 9,
   "id": "27ffab92",
   "metadata": {},
   "outputs": [
    {
     "data": {
      "text/plain": [
       "<AxesSubplot:>"
      ]
     },
     "execution_count": 9,
     "metadata": {},
     "output_type": "execute_result"
    },
    {
     "data": {
      "image/png": "[encoded data removed]",
      "text/plain": [
       "<Figure size 432x288 with 1 Axes>"
      ]
     },
     "metadata": {
      "needs_background": "light"
     },
     "output_type": "display_data"
    }
   ],
   "source": [
    "sns.barplot(x=amazonDataFiltered.Rating.value_counts().index, y=amazonDataFiltered.Rating.value_counts().values)"
   ]
  },
  {
   "cell_type": "code",
   "execution_count": 10,
   "id": "275fed1c",
   "metadata": {},
   "outputs": [
    {
     "name": "stderr",
     "output_type": "stream",
     "text": [
      "C:\\Users\\Admin\\AppData\\Local\\Temp/ipykernel_11288/3810887326.py:2: SettingWithCopyWarning: \n",
      "A value is trying to be set on a copy of a slice from a DataFrame\n",
      "\n",
      "See the caveats in the documentation: https://pandas.pydata.org/pandas-docs/stable/user_guide/indexing.html#returning-a-view-versus-a-copy\n",
      "  amazonDataFiltered[\"Sentiment\"][amazonDataFiltered[\"Rating\"].isin([1,2])]= \"Negative\"\n",
      "C:\\Users\\Admin\\AppData\\Local\\Temp/ipykernel_11288/3810887326.py:3: SettingWithCopyWarning: \n",
      "A value is trying to be set on a copy of a slice from a DataFrame\n",
      "\n",
      "See the caveats in the documentation: https://pandas.pydata.org/pandas-docs/stable/user_guide/indexing.html#returning-a-view-versus-a-copy\n",
      "  amazonDataFiltered[\"Sentiment\"][amazonDataFiltered[\"Rating\"].isin([3])]= \"Neutral\"\n"
     ]
    }
   ],
   "source": [
    "amazonDataFiltered[\"Sentiment\"] = \"Positive\"\n",
    "amazonDataFiltered[\"Sentiment\"][amazonDataFiltered[\"Rating\"].isin([1,2])]= \"Negative\"\n",
    "amazonDataFiltered[\"Sentiment\"][amazonDataFiltered[\"Rating\"].isin([3])]= \"Neutral\""
   ]
  },
  {
   "cell_type": "code",
   "execution_count": 11,
   "id": "9cc3fb32",
   "metadata": {},
   "outputs": [
    {
     "data": {
      "text/html": [
       "<div>\n",
       "<style scoped>\n",
       "    .dataframe tbody tr th:only-of-type {\n",
       "        vertical-align: middle;\n",
       "    }\n",
       "\n",
       "    .dataframe tbody tr th {\n",
       "        vertical-align: top;\n",
       "    }\n",
       "\n",
       "    .dataframe thead th {\n",
       "        text-align: right;\n",
       "    }\n",
       "</style>\n",
       "<table border=\"1\" class=\"dataframe\">\n",
       "  <thead>\n",
       "    <tr style=\"text-align: right;\">\n",
       "      <th></th>\n",
       "      <th>Reviews</th>\n",
       "      <th>Rating</th>\n",
       "      <th>Sentiment</th>\n",
       "    </tr>\n",
       "  </thead>\n",
       "  <tbody>\n",
       "    <tr>\n",
       "      <th>9</th>\n",
       "      <td>It's battery life is great. It's very responsi...</td>\n",
       "      <td>3</td>\n",
       "      <td>Neutral</td>\n",
       "    </tr>\n",
       "    <tr>\n",
       "      <th>10</th>\n",
       "      <td>My fiance had this phone previously, but cause...</td>\n",
       "      <td>3</td>\n",
       "      <td>Neutral</td>\n",
       "    </tr>\n",
       "    <tr>\n",
       "      <th>19</th>\n",
       "      <td>unfortunately Sprint could not activate the ph...</td>\n",
       "      <td>3</td>\n",
       "      <td>Neutral</td>\n",
       "    </tr>\n",
       "    <tr>\n",
       "      <th>26</th>\n",
       "      <td>the reasons for the 3 star rating was it was i...</td>\n",
       "      <td>3</td>\n",
       "      <td>Neutral</td>\n",
       "    </tr>\n",
       "    <tr>\n",
       "      <th>44</th>\n",
       "      <td>I love the phone, but one problem and one prob...</td>\n",
       "      <td>3</td>\n",
       "      <td>Neutral</td>\n",
       "    </tr>\n",
       "  </tbody>\n",
       "</table>\n",
       "</div>"
      ],
      "text/plain": [
       "                                              Reviews  Rating Sentiment\n",
       "9   It's battery life is great. It's very responsi...       3   Neutral\n",
       "10  My fiance had this phone previously, but cause...       3   Neutral\n",
       "19  unfortunately Sprint could not activate the ph...       3   Neutral\n",
       "26  the reasons for the 3 star rating was it was i...       3   Neutral\n",
       "44  I love the phone, but one problem and one prob...       3   Neutral"
      ]
     },
     "execution_count": 11,
     "metadata": {},
     "output_type": "execute_result"
    }
   ],
   "source": [
    "amazonDataFiltered[20000:20005]"
   ]
  },
  {
   "cell_type": "code",
   "execution_count": 12,
   "id": "460de5cf",
   "metadata": {},
   "outputs": [],
   "source": [
    "import nltk\n",
    "import re\n",
    "from nltk.corpus import stopwords\n",
    "from nltk.tokenize import ToktokTokenizer\n",
    "from nltk.stem.porter import PorterStemmer\n",
    "from nltk.stem import WordNetLemmatizer\n",
    "\n",
    "def lower_case(text):\n",
    "    return text.lower()\n",
    "def remove_square_brackets(text):\n",
    "    return re.sub('\\[[^]]*\\]', '', text)\n",
    "def remove_username(text):\n",
    "    return re.sub('@[^\\s]+','',text)\n",
    "def remove_urls(text):\n",
    "    return re.sub(r\"((http\\S+)|(www\\.))\",'',text)\n",
    "def remove_special_characters(text):\n",
    "    pattern = r'[^a-zA-Z\\s]'\n",
    "    text = re.sub(pattern,'',text)\n",
    "    return text\n",
    "def remove_single_char(text):\n",
    "    return re.sub(r'\\b[a-zA-Z]\\b','',text)\n",
    "def remove_multiple(text):\n",
    "    return re.sub(\"(.)\\\\1{2,}\",\"\\\\1\",text)\n",
    "tokenizer = ToktokTokenizer()\n",
    "stopword_list=nltk.corpus.stopwords.words('english')\n",
    "def remove_stopwords(text):\n",
    "    tokens = tokenizer.tokenize(text)\n",
    "    tokens = [token.strip() for token in tokens]\n",
    "    tokens = [token.lower() for token in tokens]\n",
    "    filtered_tokens = [token for token in tokens if token not in stopword_list]\n",
    "    filtered_tokens = ' '.join(filtered_tokens)\n",
    "    return filtered_tokens"
   ]
  },
  {
   "cell_type": "code",
   "execution_count": 13,
   "id": "e9add776",
   "metadata": {},
   "outputs": [],
   "source": [
    "import json\n",
    "with open('contractions.json','r') as f:\n",
    "    contractions_dict = json.load(f)\n",
    "contractions = contractions_dict['contractions']\n",
    "def replace_contractions(text):\n",
    "    for word in text.split():\n",
    "        if word.lower()  in contractions:\n",
    "            text = text.replace(word,contractions[word.lower()])\n",
    "    return text"
   ]
  },
  {
   "cell_type": "code",
   "execution_count": 21,
   "id": "75e02a3d",
   "metadata": {},
   "outputs": [],
   "source": [
    "with open('negations.json','r') as f:\n",
    "    neg_dict = json.load(f)\n",
    "negations = neg_dict['negations']\n",
    "\n",
    "#Antonyms\n",
    "#Negation Handler\n",
    "from nltk.corpus import wordnet\n",
    "from nltk.tokenize import word_tokenize\n",
    "# from nltk.\n",
    "class AntonymReplacer(object):\n",
    "    def replace(self,word):\n",
    "        antonyms = set()\n",
    "        for syn in wordnet.synsets(word):\n",
    "            if syn.pos() in ['a' ,'s']:\n",
    "                for lemma in syn.lemmas():\n",
    "                    for antonym in lemma.antonyms():\n",
    "                        antonyms.add(antonym.name())\n",
    "        if(len(antonyms) == 1):\n",
    "            return antonyms.pop()\n",
    "        else:\n",
    "            if word in negations:\n",
    "                word = word.replace(word,negations[word])\n",
    "                return word\n",
    "        \n",
    "    #Negation Replacer\n",
    "    def negReplacer(self, string):\n",
    "        i=0\n",
    "        finalSent = \"\"\n",
    "        sent = word_tokenize(string)\n",
    "        length_sent = len(sent)\n",
    "        words = []\n",
    "        while i < length_sent:\n",
    "            word = sent[i]\n",
    "            if word == 'not' and i+1 < length_sent:\n",
    "                antonymWord = self.replace(sent[i+1])\n",
    "                if antonymWord:\n",
    "                    words.append(antonymWord)\n",
    "                    finalSent += antonymWord + \" \"\n",
    "                    i += 2\n",
    "                    continue\n",
    "            words.append(word)\n",
    "            finalSent += word + \" \"\n",
    "            i += 1\n",
    "        return finalSent\n",
    "    \n",
    "# replacer = AntonymReplacer()\n",
    "# oppWord = replacer.negReplacer('not recommend')\n",
    "# print(oppWord)\n",
    "    \n",
    "def replace_negation(text):\n",
    "    \n",
    "    replacer = AntonymReplacer()\n",
    "    oppWord = replacer.negReplacer(text)\n",
    "    return oppWord\n",
    "\n",
    "# replace_negation('I am heavy')"
   ]
  },
  {
   "cell_type": "code",
   "execution_count": 15,
   "id": "06761cb6",
   "metadata": {},
   "outputs": [],
   "source": [
    "amazonDataFiltered['Reviews'] =amazonDataFiltered['Reviews'].apply(lower_case)\n",
    "amazonDataFiltered['Reviews'] =amazonDataFiltered['Reviews'].apply(remove_multiple)\n",
    "amazonDataFiltered['Reviews'] =amazonDataFiltered['Reviews'].apply(remove_single_char)\n",
    "amazonDataFiltered['Reviews'] =amazonDataFiltered['Reviews'].apply(remove_special_characters)\n",
    "amazonDataFiltered['Reviews'] =amazonDataFiltered['Reviews'].apply(remove_square_brackets)\n",
    "amazonDataFiltered['Reviews'] =amazonDataFiltered['Reviews'].apply(remove_urls)\n",
    "amazonDataFiltered['Reviews'] =amazonDataFiltered['Reviews'].apply(remove_username)\n",
    "amazonDataFiltered['Reviews'] =amazonDataFiltered['Reviews'].apply(replace_contractions)\n",
    "amazonDataFiltered['Reviews'] =amazonDataFiltered['Reviews'].apply(replace_negation)\n",
    "amazonDataFiltered['Reviews'] =amazonDataFiltered['Reviews'].apply(remove_stopwords)"
   ]
  },
  {
   "cell_type": "code",
   "execution_count": 16,
   "id": "18dbd5a9",
   "metadata": {},
   "outputs": [],
   "source": [
    "from sklearn.model_selection import train_test_split\n",
    "X = amazonDataFiltered[\"Reviews\"]\n",
    "y = amazonDataFiltered[\"Sentiment\"]\n",
    "X_train, X_test, y_train, y_test = train_test_split(X, y, test_size=0.2)"
   ]
  },
  {
   "cell_type": "code",
   "execution_count": 17,
   "id": "54c92503",
   "metadata": {},
   "outputs": [],
   "source": [
    "from sklearn.feature_extraction.text import TfidfVectorizer\n",
    "tfidf_vector = TfidfVectorizer()\n",
    "tfidf_vector.fit(X_train)\n",
    "X_train_data = tfidf_vector.transform(X_train)\n",
    "X_test_data = tfidf_vector.transform(X_test)"
   ]
  },
  {
   "cell_type": "code",
   "execution_count": 18,
   "id": "1356b6dc",
   "metadata": {},
   "outputs": [],
   "source": [
    "from sklearn.naive_bayes import MultinomialNB\n",
    "MNB = MultinomialNB()\n",
    "MNB.fit(X_train_data, y_train)\n",
    "predictions = MNB.predict(X_test_data)"
   ]
  },
  {
   "cell_type": "code",
   "execution_count": 20,
   "id": "63ccfd4d",
   "metadata": {},
   "outputs": [
    {
     "name": "stdout",
     "output_type": "stream",
     "text": [
      "Train accuracy:  0.8284375\n",
      "Test accuracy: 0.8066666666666666\n",
      "              precision    recall  f1-score   support\n",
      "\n",
      "    Negative       0.81      0.83      0.82      3901\n",
      "     Neutral       0.75      0.75      0.75      4063\n",
      "    Positive       0.86      0.84      0.85      4036\n",
      "\n",
      "    accuracy                           0.81     12000\n",
      "   macro avg       0.81      0.81      0.81     12000\n",
      "weighted avg       0.81      0.81      0.81     12000\n",
      "\n"
     ]
    }
   ],
   "source": [
    "from sklearn.metrics import accuracy_score, classification_report\n",
    "print('Train accuracy: ',accuracy_score(y_train, MNB.predict(X_train_data)))\n",
    "print('Test accuracy:', accuracy_score(y_test, predictions))\n",
    "print(classification_report(y_test, predictions))"
   ]
  },
  {
   "cell_type": "code",
   "execution_count": 22,
   "id": "bfaac787",
   "metadata": {},
   "outputs": [
    {
     "data": {
      "text/plain": [
       "240996    phone since march really trying like convenien...\n",
       "98090     know company phone bought exact item ment used...\n",
       "174424                               looks good worth money\n",
       "2629                                      luv luv luv phone\n",
       "31079     apple iphone c blue go phone past year absolut...\n",
       "                                ...                        \n",
       "249572    true phone inexpensive needed store phone numb...\n",
       "34792                          phone works good sent africa\n",
       "21907     would say vendor banned purchased two iphone u...\n",
       "255048    battery life sucks wonder got lemon otherwise ...\n",
       "100394    phone comes repowered sold new saying scratche...\n",
       "Name: Reviews, Length: 12000, dtype: object"
      ]
     },
     "execution_count": 22,
     "metadata": {},
     "output_type": "execute_result"
    }
   ],
   "source": [
    "X_test"
   ]
  },
  {
   "cell_type": "code",
   "execution_count": 23,
   "id": "2bc76c0d",
   "metadata": {},
   "outputs": [
    {
     "data": {
      "text/html": [
       "<div>\n",
       "<style scoped>\n",
       "    .dataframe tbody tr th:only-of-type {\n",
       "        vertical-align: middle;\n",
       "    }\n",
       "\n",
       "    .dataframe tbody tr th {\n",
       "        vertical-align: top;\n",
       "    }\n",
       "\n",
       "    .dataframe thead th {\n",
       "        text-align: right;\n",
       "    }\n",
       "</style>\n",
       "<table border=\"1\" class=\"dataframe\">\n",
       "  <thead>\n",
       "    <tr style=\"text-align: right;\">\n",
       "      <th></th>\n",
       "      <th>Text</th>\n",
       "      <th>Sentiment</th>\n",
       "    </tr>\n",
       "  </thead>\n",
       "  <tbody>\n",
       "    <tr>\n",
       "      <th>0</th>\n",
       "      <td>phone since march really trying like convenien...</td>\n",
       "      <td>Neutral</td>\n",
       "    </tr>\n",
       "    <tr>\n",
       "      <th>1</th>\n",
       "      <td>know company phone bought exact item ment used...</td>\n",
       "      <td>Negative</td>\n",
       "    </tr>\n",
       "    <tr>\n",
       "      <th>2</th>\n",
       "      <td>looks good worth money</td>\n",
       "      <td>Positive</td>\n",
       "    </tr>\n",
       "    <tr>\n",
       "      <th>3</th>\n",
       "      <td>luv luv luv phone</td>\n",
       "      <td>Positive</td>\n",
       "    </tr>\n",
       "    <tr>\n",
       "      <th>4</th>\n",
       "      <td>apple iphone c blue go phone past year absolut...</td>\n",
       "      <td>Positive</td>\n",
       "    </tr>\n",
       "    <tr>\n",
       "      <th>...</th>\n",
       "      <td>...</td>\n",
       "      <td>...</td>\n",
       "    </tr>\n",
       "    <tr>\n",
       "      <th>11995</th>\n",
       "      <td>true phone inexpensive needed store phone numb...</td>\n",
       "      <td>Neutral</td>\n",
       "    </tr>\n",
       "    <tr>\n",
       "      <th>11996</th>\n",
       "      <td>phone works good sent africa</td>\n",
       "      <td>Positive</td>\n",
       "    </tr>\n",
       "    <tr>\n",
       "      <th>11997</th>\n",
       "      <td>would say vendor banned purchased two iphone u...</td>\n",
       "      <td>Negative</td>\n",
       "    </tr>\n",
       "    <tr>\n",
       "      <th>11998</th>\n",
       "      <td>battery life sucks wonder got lemon otherwise ...</td>\n",
       "      <td>Neutral</td>\n",
       "    </tr>\n",
       "    <tr>\n",
       "      <th>11999</th>\n",
       "      <td>phone comes repowered sold new saying scratche...</td>\n",
       "      <td>Negative</td>\n",
       "    </tr>\n",
       "  </tbody>\n",
       "</table>\n",
       "<p>12000 rows × 2 columns</p>\n",
       "</div>"
      ],
      "text/plain": [
       "                                                    Text Sentiment\n",
       "0      phone since march really trying like convenien...   Neutral\n",
       "1      know company phone bought exact item ment used...  Negative\n",
       "2                                 looks good worth money  Positive\n",
       "3                                      luv luv luv phone  Positive\n",
       "4      apple iphone c blue go phone past year absolut...  Positive\n",
       "...                                                  ...       ...\n",
       "11995  true phone inexpensive needed store phone numb...   Neutral\n",
       "11996                       phone works good sent africa  Positive\n",
       "11997  would say vendor banned purchased two iphone u...  Negative\n",
       "11998  battery life sucks wonder got lemon otherwise ...   Neutral\n",
       "11999  phone comes repowered sold new saying scratche...  Negative\n",
       "\n",
       "[12000 rows x 2 columns]"
      ]
     },
     "execution_count": 23,
     "metadata": {},
     "output_type": "execute_result"
    }
   ],
   "source": [
    "list_of_tuples = list(zip(X_test, predictions))\n",
    "pd.DataFrame(list_of_tuples, columns = ['Text', 'Sentiment'])"
   ]
  },
  {
   "cell_type": "code",
   "execution_count": 24,
   "id": "ba724690",
   "metadata": {},
   "outputs": [
    {
     "name": "stdout",
     "output_type": "stream",
     "text": [
      "Train acc:  0.8284375\n",
      "Test acc:  0.8066666666666666\n"
     ]
    }
   ],
   "source": [
    "print('Train acc: ',accuracy_score(y_train, MNB.predict(X_train_data)))\n",
    "print('Test acc: ', accuracy_score(y_test, predictions))"
   ]
  },
  {
   "cell_type": "code",
   "execution_count": 25,
   "id": "9a89869d",
   "metadata": {},
   "outputs": [
    {
     "data": {
      "text/plain": [
       "array([[3255,  522,  124],\n",
       "       [ 581, 3053,  429],\n",
       "       [ 184,  480, 3372]], dtype=int64)"
      ]
     },
     "execution_count": 25,
     "metadata": {},
     "output_type": "execute_result"
    }
   ],
   "source": [
    "from sklearn.metrics import confusion_matrix\n",
    "confusion_matrix(y_test, predictions)\n",
    "\n",
    "# it shoes that out of 1012 data, 112 data that are acutally positive is predicted as negative"
   ]
  },
  {
   "cell_type": "code",
   "execution_count": null,
   "id": "bf6f2df2",
   "metadata": {},
   "outputs": [],
   "source": []
  },
  {
   "cell_type": "code",
   "execution_count": null,
   "id": "11838d6b",
   "metadata": {},
   "outputs": [],
   "source": []
  },
  {
   "cell_type": "code",
   "execution_count": 36,
   "id": "97096eac",
   "metadata": {},
   "outputs": [],
   "source": [
    "text1 = [\n",
    "#         'Will not repurchase. Do not recommend',\n",
    "#        'I hate this',\n",
    "#        'I love this',\n",
    "#        'This is not worth it',\n",
    "#        'This is not terrible',\n",
    "#        'This product so far has not disappointed',\n",
    "        'Excellent product. Easy to use, large screen makes watching movies and reading easier.',\n",
    "        'I am so happy today',\n",
    "       'Note 10 has great camera quality. I am loving it.',\n",
    "       'I dont know what is wrong with this phone. I have been trying to type but its not working.',\n",
    "       'Dell laptop battery dead',\n",
    "        'Good, but unhappy that screen size is small, less than I expected',\n",
    "       'The product has not disappointed',\n",
    "       'It is a expensive phone',\n",
    "       'I hate apple',\n",
    "        'less expensive than last year with so many more features and bigger screen!',\n",
    "        'I do not enjoy working under tight deadline',\n",
    "        'worst phone in the history',\n",
    "        'phone is not good but has nice screen'\n",
    "]\n",
    "# print(text1)\n",
    "text_df1 = pd.DataFrame(text1,columns=['text'])\n",
    "# print(text_df1)\n"
   ]
  },
  {
   "cell_type": "code",
   "execution_count": 37,
   "id": "ad6ad82c",
   "metadata": {},
   "outputs": [],
   "source": [
    "text_df1['text'] =text_df1['text'].apply(lower_case)\n",
    "text_df1['text'] =text_df1['text'].apply(remove_multiple)\n",
    "text_df1['text'] =text_df1['text'].apply(remove_single_char)\n",
    "text_df1['text'] =text_df1['text'].apply(remove_special_characters)\n",
    "# text_df1['text'] =text_df1['text'].apply(remove_stopwords)\n",
    "text_df1['text'] =text_df1['text'].apply(remove_square_brackets)\n",
    "text_df1['text'] =text_df1['text'].apply(remove_urls)\n",
    "text_df1['text'] =text_df1['text'].apply(remove_username)\n",
    "text_df1['text'] =text_df1['text'].apply(replace_contractions)\n",
    "text_df1['text'] =text_df1['text'].apply(replace_negation)\n",
    "# text_df1['text'] =text_df1['text'].apply(remove_stopwords)"
   ]
  },
  {
   "cell_type": "code",
   "execution_count": 38,
   "id": "bac688e2",
   "metadata": {},
   "outputs": [],
   "source": [
    "text=tfidf_vector.transform(text_df1['text'])"
   ]
  },
  {
   "cell_type": "code",
   "execution_count": 39,
   "id": "ea2bb5d3",
   "metadata": {},
   "outputs": [],
   "source": [
    "prediction = MNB.predict(text)"
   ]
  },
  {
   "cell_type": "code",
   "execution_count": 40,
   "id": "e09446b7",
   "metadata": {},
   "outputs": [
    {
     "data": {
      "text/plain": [
       "105420    stopped working months would reboot menu scree...\n",
       "10121     bought phone th december shouldve received th ...\n",
       "23450     give four stars think box previously opened cl...\n",
       "1484      loved phone month last night turned turn back ...\n",
       "37477     works great able take veroson activated daught...\n",
       "                                ...                        \n",
       "71689     star pay got toy phone gift scam cubed thats s...\n",
       "34563                                         working great\n",
       "64044     phone came locked previous itunes account hold...\n",
       "164984    phone works price low found phone upgraded win...\n",
       "289167                  excellent seller charger get broken\n",
       "Name: Reviews, Length: 12000, dtype: object"
      ]
     },
     "execution_count": 40,
     "metadata": {},
     "output_type": "execute_result"
    }
   ],
   "source": [
    "X_test"
   ]
  },
  {
   "cell_type": "code",
   "execution_count": 41,
   "id": "d8f1ad81",
   "metadata": {},
   "outputs": [
    {
     "data": {
      "text/html": [
       "<div>\n",
       "<style scoped>\n",
       "    .dataframe tbody tr th:only-of-type {\n",
       "        vertical-align: middle;\n",
       "    }\n",
       "\n",
       "    .dataframe tbody tr th {\n",
       "        vertical-align: top;\n",
       "    }\n",
       "\n",
       "    .dataframe thead th {\n",
       "        text-align: right;\n",
       "    }\n",
       "</style>\n",
       "<table border=\"1\" class=\"dataframe\">\n",
       "  <thead>\n",
       "    <tr style=\"text-align: right;\">\n",
       "      <th></th>\n",
       "      <th>Text</th>\n",
       "      <th>Sentiment</th>\n",
       "    </tr>\n",
       "  </thead>\n",
       "  <tbody>\n",
       "    <tr>\n",
       "      <th>0</th>\n",
       "      <td>excellent product easy to use large screen mak...</td>\n",
       "      <td>Positive</td>\n",
       "    </tr>\n",
       "    <tr>\n",
       "      <th>1</th>\n",
       "      <td>am so happy today</td>\n",
       "      <td>Positive</td>\n",
       "    </tr>\n",
       "    <tr>\n",
       "      <th>2</th>\n",
       "      <td>note has great camera quality am loving it</td>\n",
       "      <td>Positive</td>\n",
       "    </tr>\n",
       "    <tr>\n",
       "      <th>3</th>\n",
       "      <td>dont know what is wrong with this phone have b...</td>\n",
       "      <td>Negative</td>\n",
       "    </tr>\n",
       "    <tr>\n",
       "      <th>4</th>\n",
       "      <td>dell laptop battery dead</td>\n",
       "      <td>Neutral</td>\n",
       "    </tr>\n",
       "    <tr>\n",
       "      <th>5</th>\n",
       "      <td>good but unhappy that screen size is small les...</td>\n",
       "      <td>Neutral</td>\n",
       "    </tr>\n",
       "    <tr>\n",
       "      <th>6</th>\n",
       "      <td>the product has satisfied</td>\n",
       "      <td>Positive</td>\n",
       "    </tr>\n",
       "    <tr>\n",
       "      <th>7</th>\n",
       "      <td>it is expensive phone</td>\n",
       "      <td>Neutral</td>\n",
       "    </tr>\n",
       "    <tr>\n",
       "      <th>8</th>\n",
       "      <td>hate apple</td>\n",
       "      <td>Negative</td>\n",
       "    </tr>\n",
       "    <tr>\n",
       "      <th>9</th>\n",
       "      <td>less expensive than last year with so many mor...</td>\n",
       "      <td>Neutral</td>\n",
       "    </tr>\n",
       "    <tr>\n",
       "      <th>10</th>\n",
       "      <td>do hate working under tight deadline</td>\n",
       "      <td>Neutral</td>\n",
       "    </tr>\n",
       "    <tr>\n",
       "      <th>11</th>\n",
       "      <td>worst phone in the history</td>\n",
       "      <td>Negative</td>\n",
       "    </tr>\n",
       "    <tr>\n",
       "      <th>12</th>\n",
       "      <td>phone is not good but has nice screen</td>\n",
       "      <td>Positive</td>\n",
       "    </tr>\n",
       "  </tbody>\n",
       "</table>\n",
       "</div>"
      ],
      "text/plain": [
       "                                                 Text Sentiment\n",
       "0   excellent product easy to use large screen mak...  Positive\n",
       "1                                  am so happy today   Positive\n",
       "2         note has great camera quality am loving it   Positive\n",
       "3   dont know what is wrong with this phone have b...  Negative\n",
       "4                           dell laptop battery dead    Neutral\n",
       "5   good but unhappy that screen size is small les...   Neutral\n",
       "6                          the product has satisfied   Positive\n",
       "7                              it is expensive phone    Neutral\n",
       "8                                         hate apple   Negative\n",
       "9   less expensive than last year with so many mor...   Neutral\n",
       "10              do hate working under tight deadline    Neutral\n",
       "11                        worst phone in the history   Negative\n",
       "12             phone is not good but has nice screen   Positive"
      ]
     },
     "execution_count": 41,
     "metadata": {},
     "output_type": "execute_result"
    }
   ],
   "source": [
    "list_of_tuples = list(zip(text_df1['text'], prediction))\n",
    "pd.DataFrame(list_of_tuples, columns = ['Text', 'Sentiment'])"
   ]
  },
  {
   "cell_type": "code",
   "execution_count": null,
   "id": "f7598d30",
   "metadata": {},
   "outputs": [],
   "source": []
  },
  {
   "cell_type": "code",
   "execution_count": null,
   "id": "eac41a02",
   "metadata": {},
   "outputs": [],
   "source": []
  }
 ],
 "metadata": {
  "kernelspec": {
   "display_name": "Python 3 (ipykernel)",
   "language": "python",
   "name": "python3"
  },
  "language_info": {
   "codemirror_mode": {
    "name": "ipython",
    "version": 3
   },
   "file_extension": ".py",
   "mimetype": "text/x-python",
   "name": "python",
   "nbconvert_exporter": "python",
   "pygments_lexer": "ipython3",
   "version": "3.8.10"
  }
 },
 "nbformat": 4,
 "nbformat_minor": 5
}
